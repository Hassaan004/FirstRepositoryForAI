{
 "cells": [
  {
   "cell_type": "markdown",
   "id": "44ed9068",
   "metadata": {},
   "source": [
    "# programming paradigms\n",
    "## linear programming\n",
    "## structual/controls programming\n",
    "## object oreinted programming"
   ]
  },
  {
   "cell_type": "markdown",
   "id": "f9bdd533",
   "metadata": {},
   "source": [
    "# Linear Progamming"
   ]
  },
  {
   "cell_type": "code",
   "execution_count": 2,
   "id": "c5cde3c1",
   "metadata": {},
   "outputs": [
    {
     "name": "stdout",
     "output_type": "stream",
     "text": [
      "Muhammad Hassan\n",
      "Muhammad Hassan\n",
      "Muhammad Hassan\n",
      "Muhammad Hassan\n",
      "Muhammad Hassan\n",
      "Muhammad Hassan\n",
      "Muhammad Hassan\n",
      "Muhammad Hassan\n",
      "Muhammad Hassan\n",
      "Muhammad Hassan\n"
     ]
    }
   ],
   "source": [
    "print(\"Muhammad Hassan\")\n",
    "print(\"Muhammad Hassan\")\n",
    "print(\"Muhammad Hassan\")\n",
    "print(\"Muhammad Hassan\")\n",
    "print(\"Muhammad Hassan\")\n",
    "print(\"Muhammad Hassan\")\n",
    "print(\"Muhammad Hassan\")\n",
    "print(\"Muhammad Hassan\")\n",
    "print(\"Muhammad Hassan\")\n",
    "print(\"Muhammad Hassan\")"
   ]
  },
  {
   "cell_type": "markdown",
   "id": "da44b747",
   "metadata": {},
   "source": [
    "# Structural Programming"
   ]
  },
  {
   "cell_type": "code",
   "execution_count": 4,
   "id": "461790ac",
   "metadata": {},
   "outputs": [
    {
     "name": "stdout",
     "output_type": "stream",
     "text": [
      "Muhammad Hassan\n",
      "\tSaylani Mass IT Program\n",
      "Muhammad Hassan\n",
      "\tSaylani Mass IT Program\n",
      "Muhammad Hassan\n",
      "\tSaylani Mass IT Program\n",
      "Muhammad Hassan\n",
      "\tSaylani Mass IT Program\n",
      "Muhammad Hassan\n",
      "\tSaylani Mass IT Program\n",
      "Muhammad Hassan\n",
      "\tSaylani Mass IT Program\n",
      "Muhammad Hassan\n",
      "\tSaylani Mass IT Program\n",
      "Muhammad Hassan\n",
      "\tSaylani Mass IT Program\n",
      "Muhammad Hassan\n",
      "\tSaylani Mass IT Program\n",
      "Muhammad Hassan\n",
      "\tSaylani Mass IT Program\n"
     ]
    }
   ],
   "source": [
    "for num in range(1,11):\n",
    "    print(\"Muhammad Hassan\")\n",
    "    print(\"\\tSaylani Mass IT Program\")"
   ]
  },
  {
   "cell_type": "markdown",
   "id": "4ad0a2ac",
   "metadata": {},
   "source": [
    "# Controls\n",
    "* if\n",
    "    * else\n",
    "    * elif\n",
    "* for/while\n",
    "    * break\n",
    "    * continue\n",
    "    * pass\n",
    "    * else\n",
    "* def\n",
    "* try\n",
    "    * except\n",
    "    * else\n",
    "    * finally\n",
    "* class"
   ]
  },
  {
   "cell_type": "markdown",
   "id": "40cb3897",
   "metadata": {},
   "source": [
    "https://realpython.com/lessons/reserved-keywords/"
   ]
  },
  {
   "cell_type": "markdown",
   "id": "49bbdb59",
   "metadata": {},
   "source": [
    "# if\n",
    "* else\n",
    "* elif\n",
    "\n",
    "``` if <logic>:\n",
    "    true_block_body\n",
    "else :\n",
    "    False_block_body```"
   ]
  },
  {
   "cell_type": "code",
   "execution_count": 7,
   "id": "2a231734",
   "metadata": {},
   "outputs": [
    {
     "name": "stdout",
     "output_type": "stream",
     "text": [
      "Pakistan\n",
      "America\n"
     ]
    }
   ],
   "source": [
    "print(\"Pakistan\")\n",
    "print(\"America\")"
   ]
  },
  {
   "cell_type": "code",
   "execution_count": 9,
   "id": "2ebab404",
   "metadata": {},
   "outputs": [
    {
     "name": "stdout",
     "output_type": "stream",
     "text": [
      "America\n"
     ]
    }
   ],
   "source": [
    "if True:\n",
    "    print(\"America\")\n",
    "else:\n",
    "    print(\"Pakistan\")"
   ]
  },
  {
   "cell_type": "code",
   "execution_count": 10,
   "id": "c3ec2eb6",
   "metadata": {},
   "outputs": [
    {
     "name": "stdout",
     "output_type": "stream",
     "text": [
      "America\n"
     ]
    }
   ],
   "source": [
    "if False:\n",
    "    print(\"Pakistan\")\n",
    "else:\n",
    "    print(\"America\")"
   ]
  },
  {
   "cell_type": "code",
   "execution_count": 12,
   "id": "915d9eaa",
   "metadata": {},
   "outputs": [
    {
     "name": "stdout",
     "output_type": "stream",
     "text": [
      "Enter any number250\n",
      "250 <class 'str'>\n"
     ]
    }
   ],
   "source": [
    "num = input(\"Enter any number\")\n",
    "print(num, type(num))"
   ]
  },
  {
   "cell_type": "code",
   "execution_count": 18,
   "id": "2d74b05a",
   "metadata": {},
   "outputs": [
    {
     "name": "stdout",
     "output_type": "stream",
     "text": [
      "Enter any number: 250\n",
      "250 <class 'int'>\n",
      "0\n",
      "True\n"
     ]
    }
   ],
   "source": [
    "num = int(input(\"Enter any number: \"))\n",
    "print(num, type(num))\n",
    "\n",
    "print(num % 2)\n",
    "print(num % 2 == 0)"
   ]
  },
  {
   "cell_type": "code",
   "execution_count": 20,
   "id": "68227755",
   "metadata": {},
   "outputs": [
    {
     "name": "stdout",
     "output_type": "stream",
     "text": [
      "Enter any number: 250\n",
      "the 250 is even\n"
     ]
    }
   ],
   "source": [
    "num = int(input(\"Enter any number: \"))\n",
    "\n",
    "if num % 2 == 0:\n",
    "    print(f\"the {num} is even\")\n",
    "else:\n",
    "    print(f\"the {num} is odd\")"
   ]
  },
  {
   "cell_type": "code",
   "execution_count": 29,
   "id": "980bbf13",
   "metadata": {},
   "outputs": [
    {
     "name": "stdout",
     "output_type": "stream",
     "text": [
      "Enter your percentage: 60\n",
      "B\n",
      "Saylani Mass IT Program\n"
     ]
    }
   ],
   "source": [
    "per = int(input(\"Enter your percentage: \"))\n",
    "\n",
    "if per >= 80:\n",
    "    print(\"A+\")\n",
    "elif per >= 70:\n",
    "    print(\"A\")\n",
    "elif per >= 60:\n",
    "    print(\"B\")\n",
    "elif per >= 50:\n",
    "    print(\"C\")\n",
    "elif per >= 40:\n",
    "    print(\"D\")\n",
    "else:\n",
    "    print(\"Fail\")\n",
    "    \n",
    "print(\"Saylani Mass IT Program\")"
   ]
  },
  {
   "cell_type": "code",
   "execution_count": 34,
   "id": "323616ab",
   "metadata": {},
   "outputs": [
    {
     "name": "stdout",
     "output_type": "stream",
     "text": [
      "Enter percentage: 55\n",
      "Fail\n"
     ]
    }
   ],
   "source": [
    "per = int(input(\"Enter percentage: \")) # this program is for logical error\n",
    "if per >= 0:\n",
    "    print(\"Fail\")\n",
    "elif per >= 40:\n",
    "    print(\"D\")\n",
    "elif per >= 50:\n",
    "    print(\"C\")\n",
    "elif per >= 60:\n",
    "    print(\"B\")\n",
    "elif per >= 70:\n",
    "    print(\"A\")\n",
    "if per >= 80:\n",
    "    print(\"A+\") \n"
   ]
  },
  {
   "cell_type": "code",
   "execution_count": 33,
   "id": "64556b18",
   "metadata": {},
   "outputs": [
    {
     "name": "stdout",
     "output_type": "stream",
     "text": [
      "Enter percentage: 39\n",
      "Fail\n"
     ]
    }
   ],
   "source": [
    "per = int(input(\"Enter percentage: \"))\n",
    "if per >= 0 and per < 40:\n",
    "    print(\"Fail\")\n",
    "elif per >= 40 and per < 50:\n",
    "    print(\"D\")\n",
    "elif per >= 50 and per < 60:\n",
    "    print(\"C\")\n",
    "elif per >= 60 and per < 70:\n",
    "    print(\"B\")\n",
    "elif per >= 70 and per < 80:\n",
    "    print(\"A\")\n",
    "elif per >= 80 and per < 100:\n",
    "    print(\"A+\")\n"
   ]
  },
  {
   "cell_type": "code",
   "execution_count": null,
   "id": "ec8deada",
   "metadata": {},
   "outputs": [],
   "source": [
    "user_name = input(\"Enter Username: \")\n",
    "password ="
   ]
  }
 ],
 "metadata": {
  "kernelspec": {
   "display_name": "Python 3 (ipykernel)",
   "language": "python",
   "name": "python3"
  },
  "language_info": {
   "codemirror_mode": {
    "name": "ipython",
    "version": 3
   },
   "file_extension": ".py",
   "mimetype": "text/x-python",
   "name": "python",
   "nbconvert_exporter": "python",
   "pygments_lexer": "ipython3",
   "version": "3.9.13"
  }
 },
 "nbformat": 4,
 "nbformat_minor": 5
}
