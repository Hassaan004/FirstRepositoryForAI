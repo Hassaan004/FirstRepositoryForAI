{
 "cells": [
  {
   "cell_type": "markdown",
   "id": "d7a04c26",
   "metadata": {},
   "source": [
    "# Text forating/formation/concatination"
   ]
  },
  {
   "cell_type": "code",
   "execution_count": 2,
   "id": "fc9c2feb",
   "metadata": {},
   "outputs": [
    {
     "ename": "SyntaxError",
     "evalue": "invalid syntax (3756658976.py, line 1)",
     "output_type": "error",
     "traceback": [
      "\u001b[1;36m  File \u001b[1;32m\"C:\\Users\\Matech\\AppData\\Local\\Temp\\ipykernel_3420\\3756658976.py\"\u001b[1;36m, line \u001b[1;32m1\u001b[0m\n\u001b[1;33m    first name = \"Muhammad Hassan\"\u001b[0m\n\u001b[1;37m          ^\u001b[0m\n\u001b[1;31mSyntaxError\u001b[0m\u001b[1;31m:\u001b[0m invalid syntax\n"
     ]
    }
   ],
   "source": [
    "first name = \"Muhammad Hassan\""
   ]
  },
  {
   "cell_type": "markdown",
   "id": "449c0e61",
   "metadata": {},
   "source": [
    "# Rules for Python variables:\n",
    "\n",
    "* A variable name must start with a letter or the underscore character\n",
    "* A variable name cannot start with a number\n",
    "* A variable name can only contain alpha-numeric characters and underscores (A-z, 0-9, and _ )\n",
    "* Variable names are case-sensitive (age, Age and AGE are three different variables)"
   ]
  },
  {
   "cell_type": "code",
   "execution_count": 3,
   "id": "e2b7256c",
   "metadata": {},
   "outputs": [
    {
     "name": "stdout",
     "output_type": "stream",
     "text": [
      "27\n"
     ]
    }
   ],
   "source": [
    "age = 27\n",
    "print(age)"
   ]
  },
  {
   "cell_type": "code",
   "execution_count": 4,
   "id": "66772373",
   "metadata": {},
   "outputs": [
    {
     "ename": "NameError",
     "evalue": "name 'Age' is not defined",
     "output_type": "error",
     "traceback": [
      "\u001b[1;31m---------------------------------------------------------------------------\u001b[0m",
      "\u001b[1;31mNameError\u001b[0m                                 Traceback (most recent call last)",
      "\u001b[1;32m~\\AppData\\Local\\Temp\\ipykernel_3420\\2955847039.py\u001b[0m in \u001b[0;36m<module>\u001b[1;34m\u001b[0m\n\u001b[1;32m----> 1\u001b[1;33m \u001b[0mprint\u001b[0m\u001b[1;33m(\u001b[0m\u001b[0mAge\u001b[0m\u001b[1;33m)\u001b[0m\u001b[1;33m\u001b[0m\u001b[1;33m\u001b[0m\u001b[0m\n\u001b[0m",
      "\u001b[1;31mNameError\u001b[0m: name 'Age' is not defined"
     ]
    }
   ],
   "source": [
    "print(Age)"
   ]
  },
  {
   "cell_type": "code",
   "execution_count": 5,
   "id": "87c21e8b",
   "metadata": {},
   "outputs": [
    {
     "name": "stdout",
     "output_type": "stream",
     "text": [
      "Hassan\n"
     ]
    }
   ],
   "source": [
    "student_name = \"Hassan\"\n",
    "print(student_name)"
   ]
  },
  {
   "cell_type": "code",
   "execution_count": 7,
   "id": "3910e382",
   "metadata": {},
   "outputs": [
    {
     "name": "stdout",
     "output_type": "stream",
     "text": [
      "6\n"
     ]
    }
   ],
   "source": [
    "a = len(\"Hassan\") #return function\n",
    "print(a)"
   ]
  },
  {
   "cell_type": "code",
   "execution_count": 9,
   "id": "0b5b835a",
   "metadata": {},
   "outputs": [
    {
     "name": "stdout",
     "output_type": "stream",
     "text": [
      "Hassan\n",
      "None\n"
     ]
    }
   ],
   "source": [
    "a = print(\"Hassan\") #non-return function\n",
    "print(a)"
   ]
  },
  {
   "cell_type": "code",
   "execution_count": 11,
   "id": "4cd16e39",
   "metadata": {},
   "outputs": [
    {
     "name": "stdout",
     "output_type": "stream",
     "text": [
      "\n",
      "Saylani Mass IT program\n",
      "Batch-4 AI and DS\n",
      "Class days: Tue and Fri\n",
      "\n",
      "None\n"
     ]
    }
   ],
   "source": [
    "a =print( \"\"\"\n",
    "Saylani Mass IT program\n",
    "Batch-4 AI and DS\n",
    "Class days: Tue and Fri\n",
    "\"\"\")\n",
    "print(a)"
   ]
  },
  {
   "cell_type": "markdown",
   "id": "7ba63249",
   "metadata": {},
   "source": [
    "# Concatination\n",
    "* **+**\n",
    "* variable_name.format(var1,var2,var3)\n",
    "* `f'`Student name:{var1}'"
   ]
  },
  {
   "cell_type": "code",
   "execution_count": 19,
   "id": "a28e8bd9",
   "metadata": {},
   "outputs": [
    {
     "name": "stdout",
     "output_type": "stream",
     "text": [
      "Institute Name: Saylani Mass IT Training\n",
      "Student Full Name: Muhammmad Hassan\n",
      "Age: 27\n"
     ]
    }
   ],
   "source": [
    "first_name = \"Muhammmad\"\n",
    "last_name = \"Hassan\"\n",
    "institute_name = \"Saylani Mass IT Training\"\n",
    "\n",
    "card = \"Institute Name: \" + institute_name + \"\\nStudent Full Name: \" + first_name + \" \" + last_name +\"\\nAge: \" + str(age)\n",
    "print(card)"
   ]
  },
  {
   "cell_type": "code",
   "execution_count": 18,
   "id": "f669ddb5",
   "metadata": {},
   "outputs": [
    {
     "name": "stdout",
     "output_type": "stream",
     "text": [
      "27 <class 'int'>\n"
     ]
    }
   ],
   "source": [
    "age = 27\n",
    "print(age ,type(age))\n",
    "\n",
    "# type casting\n",
    "age = str(age)"
   ]
  },
  {
   "cell_type": "code",
   "execution_count": 21,
   "id": "ef7bac39",
   "metadata": {},
   "outputs": [
    {
     "name": "stdout",
     "output_type": "stream",
     "text": [
      " Institute Name: Saylani Mass IT Training\n",
      "Student Full Name: Muhammmad Hassan\n",
      "Age: 27\n",
      "\n"
     ]
    }
   ],
   "source": [
    "first_name = \"Muhammmad\"\n",
    "last_name = \"Hassan\"\n",
    "institute_name = \"Saylani Mass IT Training\"\n",
    "\n",
    "card = \"\"\" Institute Name: {}\n",
    "Student Full Name: {} {}\n",
    "Age: {}\n",
    "\"\"\".format(institute_name,first_name,last_name,age)\n",
    "print(card)"
   ]
  },
  {
   "cell_type": "code",
   "execution_count": 28,
   "id": "48c7104b",
   "metadata": {},
   "outputs": [
    {
     "name": "stdout",
     "output_type": "stream",
     "text": [
      " Institute Name: 27\n",
      "Student Full Name: Hassan Muhammmad\n",
      "Age: Saylani Mass IT Training\n",
      "\n"
     ]
    }
   ],
   "source": [
    "first_name = \"Muhammmad\"\n",
    "last_name = \"Hassan\"\n",
    "institute_name = \"Saylani Mass IT Training\"\n",
    "age = 27\n",
    "\n",
    "card = \"\"\" Institute Name: {3}\n",
    "Student Full Name: {2} {1}\n",
    "Age: {0}\n",
    "\"\"\".format(institute_name,first_name,last_name,age)\n",
    "print(card)"
   ]
  },
  {
   "cell_type": "markdown",
   "id": "a3f56947",
   "metadata": {},
   "source": [
    "# with `f`"
   ]
  },
  {
   "cell_type": "code",
   "execution_count": 29,
   "id": "061e94a6",
   "metadata": {},
   "outputs": [
    {
     "name": "stdout",
     "output_type": "stream",
     "text": [
      " Institute Name: Saylani Mass IT Training\n",
      "Student Full Name: Muhammmad Hassan\n",
      "Age: 27\n",
      "\n"
     ]
    }
   ],
   "source": [
    "first_name = \"Muhammmad\"\n",
    "last_name = \"Hassan\"\n",
    "institute_name = \"Saylani Mass IT Training\"\n",
    "age = 27\n",
    "\n",
    "card = f\"\"\" Institute Name: {institute_name}\n",
    "Student Full Name: {first_name} {last_name}\n",
    "Age: {age}\n",
    "\"\"\".format(institute_name,first_name,last_name,age)\n",
    "print(card)"
   ]
  },
  {
   "cell_type": "code",
   "execution_count": 25,
   "id": "defeb12f",
   "metadata": {},
   "outputs": [
    {
     "name": "stdout",
     "output_type": "stream",
     "text": [
      " Institute Name:Saylani Mass IT Training\n",
      "Student Full Name: Muhammmad {last_name}\n",
      "Age: {age}\n",
      "\n"
     ]
    }
   ],
   "source": [
    "card = \"\"\" Institute Name:%s\n",
    "Student Full Name: %s {last_name}\n",
    "Age: {age}\n",
    "\"\"\" % (institute_name, first_name)\n",
    "print(card)"
   ]
  },
  {
   "cell_type": "code",
   "execution_count": 30,
   "id": "8a109cbe",
   "metadata": {},
   "outputs": [
    {
     "name": "stdout",
     "output_type": "stream",
     "text": [
      " Institute Name:Saylani Mass IT Training\n",
      "Student Full Name: Muhammmad Hassan\n",
      "Age: 27\n",
      "\n"
     ]
    }
   ],
   "source": [
    "card = \"\"\" Institute Name:%s\n",
    "Student Full Name: %s %s\n",
    "Age: %d\n",
    "\"\"\" % (institute_name, first_name, last_name,age)\n",
    "print(card)"
   ]
  },
  {
   "cell_type": "code",
   "execution_count": 31,
   "id": "4a678d78",
   "metadata": {},
   "outputs": [
    {
     "name": "stdout",
     "output_type": "stream",
     "text": [
      " Institute Name:Saylani Mass IT Training\n",
      "Student Full Name: Muhammmad Hassan\n",
      "Age: 27\n",
      "\n"
     ]
    }
   ],
   "source": [
    "print(card)"
   ]
  },
  {
   "cell_type": "code",
   "execution_count": 36,
   "id": "9c3b0820",
   "metadata": {},
   "outputs": [
    {
     "name": "stdout",
     "output_type": "stream",
     "text": [
      "0 capitalize\n",
      "1 casefold\n",
      "2 center\n",
      "3 count\n",
      "4 encode\n",
      "5 endswith\n",
      "6 expandtabs\n",
      "7 find\n",
      "8 format\n",
      "9 index\n",
      "10 isalnum\n",
      "11 isalpha\n",
      "12 isascii\n",
      "13 isdecimal\n",
      "14 isdigit\n",
      "15 isidentifier\n",
      "16 islower\n",
      "17 isnumeric\n",
      "18 isprintable\n",
      "19 isspace\n",
      "20 istitle\n",
      "21 isupper\n",
      "22 join\n",
      "23 ljust\n",
      "24 lower\n",
      "25 lstrip\n",
      "26 maketrans\n",
      "27 partition\n",
      "28 removeprefix\n",
      "29 removesuffix\n",
      "30 replace\n",
      "31 rfind\n",
      "32 rindex\n",
      "33 rjust\n",
      "34 rpartition\n",
      "35 rsplit\n",
      "36 rstrip\n",
      "37 split\n",
      "38 splitlines\n",
      "39 startswith\n",
      "40 strip\n",
      "41 swapcase\n",
      "42 title\n",
      "43 translate\n",
      "44 upper\n",
      "45 zfill\n"
     ]
    }
   ],
   "source": [
    "for idx, i in enumerate ([i for i in dir(card) if \"_\" not in i]):\n",
    "    print(idx,i)"
   ]
  },
  {
   "cell_type": "code",
   "execution_count": 39,
   "id": "503d40bf",
   "metadata": {},
   "outputs": [
    {
     "name": "stdout",
     "output_type": "stream",
     "text": [
      " institute name:saylani mass it training\n",
      "student full name: muhammmad hassan\n",
      "age: 27\n",
      "\n"
     ]
    }
   ],
   "source": [
    "print(card.capitalize())"
   ]
  },
  {
   "cell_type": "code",
   "execution_count": 40,
   "id": "29b431df",
   "metadata": {},
   "outputs": [
    {
     "name": "stdout",
     "output_type": "stream",
     "text": [
      " institute name:saylani mass it training\n",
      "student full name: muhammmad hassan\n",
      "age: 27\n",
      "\n"
     ]
    }
   ],
   "source": [
    "print(card.casefold())"
   ]
  },
  {
   "cell_type": "code",
   "execution_count": 46,
   "id": "ca186285",
   "metadata": {},
   "outputs": [
    {
     "name": "stdout",
     "output_type": "stream",
     "text": [
      " Institute Name:Saylani Mass IT Training\n",
      "Student Full Name: Muhammmad Hassan\n",
      "Age: 27\n",
      "\n"
     ]
    },
    {
     "data": {
      "text/plain": [
       "4"
      ]
     },
     "execution_count": 46,
     "metadata": {},
     "output_type": "execute_result"
    }
   ],
   "source": [
    "print(card)\n",
    "card.count('i')"
   ]
  },
  {
   "cell_type": "code",
   "execution_count": 10,
   "id": "6a6b7988",
   "metadata": {},
   "outputs": [
    {
     "name": "stdout",
     "output_type": "stream",
     "text": [
      "                                                    Muhammad Hassan                                                     \n"
     ]
    }
   ],
   "source": [
    "card= \"Muhammad Hassan\"\n",
    "print(card.center(120))"
   ]
  },
  {
   "cell_type": "code",
   "execution_count": 11,
   "id": "22e2a263",
   "metadata": {},
   "outputs": [
    {
     "name": "stdout",
     "output_type": "stream",
     "text": [
      "b'Muhammad Hassan'\n"
     ]
    }
   ],
   "source": [
    "card= \"Muhammad Hassan\"\n",
    "print(card.encode())"
   ]
  },
  {
   "cell_type": "code",
   "execution_count": 18,
   "id": "181ca9b2",
   "metadata": {},
   "outputs": [
    {
     "name": "stdout",
     "output_type": "stream",
     "text": [
      "True\n",
      "False\n"
     ]
    }
   ],
   "source": [
    "card= \"Muhammad Hassan\"\n",
    "print(card.endswith('n'))\n",
    "print(card.endswith('h'))"
   ]
  },
  {
   "cell_type": "code",
   "execution_count": 23,
   "id": "1a3a8bf0",
   "metadata": {},
   "outputs": [
    {
     "name": "stdout",
     "output_type": "stream",
     "text": [
      "Muhammad                      Hassan\n"
     ]
    }
   ],
   "source": [
    "card= \"Muhammad\\tHassan\"\n",
    "print(card.expandtabs(30))"
   ]
  },
  {
   "cell_type": "code",
   "execution_count": 29,
   "id": "ec2d809e",
   "metadata": {},
   "outputs": [
    {
     "name": "stdout",
     "output_type": "stream",
     "text": [
      "2\n",
      "9\n"
     ]
    }
   ],
   "source": [
    "card= \"Muhammad Hassan\"\n",
    "print(card.find('h'))\n",
    "print(card.find('H'))"
   ]
  },
  {
   "cell_type": "code",
   "execution_count": 36,
   "id": "0f77303a",
   "metadata": {},
   "outputs": [
    {
     "name": "stdout",
     "output_type": "stream",
     "text": [
      "My percentage is  86.00 %\n"
     ]
    }
   ],
   "source": [
    "card= \"My percentage is {percentage: .2f} %\"\n",
    "print(card.format(percentage=86))"
   ]
  },
  {
   "cell_type": "code",
   "execution_count": 43,
   "id": "20cc65c7",
   "metadata": {},
   "outputs": [
    {
     "name": "stdout",
     "output_type": "stream",
     "text": [
      "0\n",
      "2\n"
     ]
    }
   ],
   "source": [
    "sports = ('Football','Cricket','Hockey')\n",
    "x=sports.index(\"Football\")\n",
    "y=sports.index(\"Hockey\")\n",
    "print(x)\n",
    "print(y)"
   ]
  },
  {
   "cell_type": "code",
   "execution_count": 47,
   "id": "9d54dce1",
   "metadata": {},
   "outputs": [
    {
     "name": "stdout",
     "output_type": "stream",
     "text": [
      "False\n",
      "True\n"
     ]
    }
   ],
   "source": [
    "card= \"MuhammadHassan?\"\n",
    "name=\"MuhammadHassaan123\"\n",
    "print(card.isalnum())\n",
    "print(name.isalnum())"
   ]
  },
  {
   "cell_type": "code",
   "execution_count": 49,
   "id": "c20bc2b6",
   "metadata": {},
   "outputs": [
    {
     "name": "stdout",
     "output_type": "stream",
     "text": [
      "True\n",
      "False\n"
     ]
    }
   ],
   "source": [
    "card= \"MuhammadHassan\"\n",
    "name=\"MuhammadHassaan123\"\n",
    "print(card.isalpha())\n",
    "print(name.isalpha())"
   ]
  },
  {
   "cell_type": "code",
   "execution_count": 55,
   "id": "10abbc91",
   "metadata": {},
   "outputs": [
    {
     "name": "stdout",
     "output_type": "stream",
     "text": [
      "True\n",
      "False\n"
     ]
    }
   ],
   "source": [
    "card= \"Muhammad Hassan\"\n",
    "name=\"ß\" #German Letter\n",
    "print(card.isascii())\n",
    "print(name.isascii())"
   ]
  },
  {
   "cell_type": "code",
   "execution_count": 58,
   "id": "090c1263",
   "metadata": {},
   "outputs": [
    {
     "name": "stdout",
     "output_type": "stream",
     "text": [
      "True\n",
      "False\n"
     ]
    }
   ],
   "source": [
    "x= \"004\"\n",
    "y= \"4.5\"\n",
    "print(x.isdecimal())\n",
    "print(y.isdecimal())"
   ]
  },
  {
   "cell_type": "code",
   "execution_count": 59,
   "id": "ce5cd6cc",
   "metadata": {},
   "outputs": [
    {
     "name": "stdout",
     "output_type": "stream",
     "text": [
      "True\n",
      "False\n"
     ]
    }
   ],
   "source": [
    "x= \"004\"\n",
    "y= \"4.5\"\n",
    "print(x.isdigit())\n",
    "print(y.isdigit())"
   ]
  },
  {
   "cell_type": "code",
   "execution_count": 63,
   "id": "2912d711",
   "metadata": {},
   "outputs": [
    {
     "name": "stdout",
     "output_type": "stream",
     "text": [
      "True\n",
      "False\n",
      "True\n"
     ]
    }
   ],
   "source": [
    "x= \"XYZ123\"\n",
    "y= \"Hello world\"\n",
    "z= \"JamesBond_007\"\n",
    "print(x.isidentifier())\n",
    "print(y.isidentifier())\n",
    "print(z.isidentifier())"
   ]
  },
  {
   "cell_type": "code",
   "execution_count": 65,
   "id": "8eb1cb4d",
   "metadata": {},
   "outputs": [
    {
     "name": "stdout",
     "output_type": "stream",
     "text": [
      "True\n",
      "False\n"
     ]
    }
   ],
   "source": [
    "x= \"muhammad hassan\"\n",
    "y= \"Muhammad Hassan\"\n",
    "print(x.islower())\n",
    "print(y.islower())"
   ]
  },
  {
   "cell_type": "code",
   "execution_count": 67,
   "id": "0abe3e3d",
   "metadata": {},
   "outputs": [
    {
     "name": "stdout",
     "output_type": "stream",
     "text": [
      "True\n",
      "False\n"
     ]
    }
   ],
   "source": [
    "x= \"123\"\n",
    "y= \"123ABC\"\n",
    "print(x.isnumeric())\n",
    "print(y.isnumeric())"
   ]
  },
  {
   "cell_type": "code",
   "execution_count": 70,
   "id": "2318ed2f",
   "metadata": {},
   "outputs": [
    {
     "name": "stdout",
     "output_type": "stream",
     "text": [
      "True\n",
      "False\n"
     ]
    }
   ],
   "source": [
    "x= \"123abc/13%&@^*#!\"\n",
    "y= \"123ABC\\n\"\n",
    "print(x.isprintable())\n",
    "print(y.isprintable())"
   ]
  },
  {
   "cell_type": "code",
   "execution_count": 71,
   "id": "f2ffb058",
   "metadata": {},
   "outputs": [
    {
     "name": "stdout",
     "output_type": "stream",
     "text": [
      "True\n",
      "False\n"
     ]
    }
   ],
   "source": [
    "x= \"      \"\n",
    "y= \"    h\"\n",
    "print(x.isspace())\n",
    "print(y.isspace())"
   ]
  },
  {
   "cell_type": "code",
   "execution_count": 72,
   "id": "4cfc63db",
   "metadata": {},
   "outputs": [
    {
     "name": "stdout",
     "output_type": "stream",
     "text": [
      "True\n",
      "False\n"
     ]
    }
   ],
   "source": [
    "x= \"Muhammad Hassan\"\n",
    "y= \"muhammad hassan\"\n",
    "print(x.istitle())\n",
    "print(y.istitle())"
   ]
  },
  {
   "cell_type": "code",
   "execution_count": 74,
   "id": "5d7964c8",
   "metadata": {},
   "outputs": [
    {
     "name": "stdout",
     "output_type": "stream",
     "text": [
      "H.a.s.s.a.n\n",
      "North.South.East.West\n"
     ]
    }
   ],
   "source": [
    "sep ='.'\n",
    "x= \"Hassan\"\n",
    "y= ('North','South','East','West')\n",
    "print(sep.join(x))\n",
    "print(sep.join(y))"
   ]
  },
  {
   "cell_type": "code",
   "execution_count": 76,
   "id": "2130ad52",
   "metadata": {},
   "outputs": [
    {
     "name": "stdout",
     "output_type": "stream",
     "text": [
      "'Hassan'            \n",
      "hassan--------------\n"
     ]
    }
   ],
   "source": [
    "x= \"'Hassan'\"\n",
    "y= \"hassan\"\n",
    "print(x.ljust(20))\n",
    "print(y.ljust(20,'-'))"
   ]
  },
  {
   "cell_type": "code",
   "execution_count": 77,
   "id": "e89a7207",
   "metadata": {},
   "outputs": [
    {
     "name": "stdout",
     "output_type": "stream",
     "text": [
      "'hassan'\n",
      "123abc\n"
     ]
    }
   ],
   "source": [
    "x= \"'Hassan'\"\n",
    "y= \"123ABC\"\n",
    "print(x.lower())\n",
    "print(y.lower())"
   ]
  },
  {
   "cell_type": "code",
   "execution_count": 84,
   "id": "63e42c02",
   "metadata": {},
   "outputs": [
    {
     "name": "stdout",
     "output_type": "stream",
     "text": [
      "Muhammad Hassan          !!\n",
      "123ABC$@\n"
     ]
    }
   ],
   "source": [
    "x= \"         Muhammad Hassan          !!\"\n",
    "y= \"$@123ABC$@\"\n",
    "print(x.lstrip())\n",
    "print(y.lstrip('$@'))"
   ]
  },
  {
   "cell_type": "code",
   "execution_count": 86,
   "id": "220b02a4",
   "metadata": {},
   "outputs": [
    {
     "name": "stdout",
     "output_type": "stream",
     "text": [
      "Mgrammad Haan\n"
     ]
    }
   ],
   "source": [
    "name = \"Muhammad Hassan\"\n",
    "x = name.maketrans('uh','gr','s')\n",
    "y = name.translate(x)\n",
    "print(y)"
   ]
  },
  {
   "cell_type": "code",
   "execution_count": 87,
   "id": "6b9b5b5b",
   "metadata": {},
   "outputs": [
    {
     "name": "stdout",
     "output_type": "stream",
     "text": [
      "('Hello', ' ', 'Muhammad Hassan')\n"
     ]
    }
   ],
   "source": [
    "x = \"Hello Muhammad Hassan\"\n",
    "print(x.partition(' '))"
   ]
  },
  {
   "cell_type": "code",
   "execution_count": 90,
   "id": "6cc7a810",
   "metadata": {},
   "outputs": [
    {
     "name": "stdout",
     "output_type": "stream",
     "text": [
      " Hassan\n"
     ]
    }
   ],
   "source": [
    "name = \"Mr. Hassan\"\n",
    "print(name.removeprefix('Mr.'))"
   ]
  },
  {
   "cell_type": "code",
   "execution_count": 91,
   "id": "1ec9284a",
   "metadata": {},
   "outputs": [
    {
     "name": "stdout",
     "output_type": "stream",
     "text": [
      "Mr. \n"
     ]
    }
   ],
   "source": [
    "name = \"Mr. Hassan\"\n",
    "print(name.removesuffix('Hassan'))"
   ]
  },
  {
   "cell_type": "code",
   "execution_count": 92,
   "id": "d0955fdb",
   "metadata": {},
   "outputs": [
    {
     "name": "stdout",
     "output_type": "stream",
     "text": [
      "Mr. Hassaan\n"
     ]
    }
   ],
   "source": [
    "name = \"Mr. Hassan\"\n",
    "print(name.replace('Hassan','Hassaan'))"
   ]
  },
  {
   "cell_type": "code",
   "execution_count": 96,
   "id": "e5c66f67",
   "metadata": {},
   "outputs": [
    {
     "name": "stdout",
     "output_type": "stream",
     "text": [
      "9\n",
      "-1\n"
     ]
    }
   ],
   "source": [
    "name = \"muhammad hassan\"\n",
    "print(name.rfind(\"h\"))\n",
    "print(name.rfind(\"x\"))"
   ]
  },
  {
   "cell_type": "code",
   "execution_count": 97,
   "id": "b303753c",
   "metadata": {},
   "outputs": [
    {
     "name": "stdout",
     "output_type": "stream",
     "text": [
      "9\n"
     ]
    },
    {
     "ename": "ValueError",
     "evalue": "substring not found",
     "output_type": "error",
     "traceback": [
      "\u001b[1;31m---------------------------------------------------------------------------\u001b[0m",
      "\u001b[1;31mValueError\u001b[0m                                Traceback (most recent call last)",
      "\u001b[1;32m~\\AppData\\Local\\Temp\\ipykernel_1368\\4195238027.py\u001b[0m in \u001b[0;36m<module>\u001b[1;34m\u001b[0m\n\u001b[0;32m      1\u001b[0m \u001b[0mname\u001b[0m \u001b[1;33m=\u001b[0m \u001b[1;34m\"muhammad hassan\"\u001b[0m\u001b[1;33m\u001b[0m\u001b[1;33m\u001b[0m\u001b[0m\n\u001b[0;32m      2\u001b[0m \u001b[0mprint\u001b[0m\u001b[1;33m(\u001b[0m\u001b[0mname\u001b[0m\u001b[1;33m.\u001b[0m\u001b[0mrindex\u001b[0m\u001b[1;33m(\u001b[0m\u001b[1;34m\"h\"\u001b[0m\u001b[1;33m)\u001b[0m\u001b[1;33m)\u001b[0m\u001b[1;33m\u001b[0m\u001b[1;33m\u001b[0m\u001b[0m\n\u001b[1;32m----> 3\u001b[1;33m \u001b[0mprint\u001b[0m\u001b[1;33m(\u001b[0m\u001b[0mname\u001b[0m\u001b[1;33m.\u001b[0m\u001b[0mrindex\u001b[0m\u001b[1;33m(\u001b[0m\u001b[1;34m\"x\"\u001b[0m\u001b[1;33m)\u001b[0m\u001b[1;33m)\u001b[0m\u001b[1;33m\u001b[0m\u001b[1;33m\u001b[0m\u001b[0m\n\u001b[0m",
      "\u001b[1;31mValueError\u001b[0m: substring not found"
     ]
    }
   ],
   "source": [
    "name = \"muhammad hassan\"\n",
    "print(name.rindex(\"h\"))\n",
    "print(name.rindex(\"x\"))"
   ]
  },
  {
   "cell_type": "code",
   "execution_count": 102,
   "id": "42ecd41a",
   "metadata": {},
   "outputs": [
    {
     "name": "stdout",
     "output_type": "stream",
     "text": [
      "    hassan\n",
      "----hassan\n"
     ]
    }
   ],
   "source": [
    "name = \"hassan\"\n",
    "print(name.rjust(10))\n",
    "print(name.rjust(10,'-'))"
   ]
  },
  {
   "cell_type": "code",
   "execution_count": 109,
   "id": "6e2c7273",
   "metadata": {},
   "outputs": [
    {
     "name": "stdout",
     "output_type": "stream",
     "text": [
      "('hassan , qasim ', ',', ' mehmood')\n"
     ]
    }
   ],
   "source": [
    "name =\"hassan , qasim , mehmood\"\n",
    "print(name.rpartition(','))"
   ]
  },
  {
   "cell_type": "code",
   "execution_count": 110,
   "id": "4d9051fc",
   "metadata": {},
   "outputs": [
    {
     "name": "stdout",
     "output_type": "stream",
     "text": [
      "['muhammad', 'hassan']\n"
     ]
    }
   ],
   "source": [
    "name = \"muhammad hassan\"\n",
    "print(name.rsplit())"
   ]
  },
  {
   "cell_type": "code",
   "execution_count": 113,
   "id": "ac426d0b",
   "metadata": {},
   "outputs": [
    {
     "name": "stdout",
     "output_type": "stream",
     "text": [
      "    'muhammad hassan\n"
     ]
    }
   ],
   "source": [
    "name = \"    'muhammad hassan    \"\n",
    "print(name.rstrip())"
   ]
  },
  {
   "cell_type": "code",
   "execution_count": 114,
   "id": "f9179c17",
   "metadata": {},
   "outputs": [
    {
     "name": "stdout",
     "output_type": "stream",
     "text": [
      "['muhammad', 'hassan']\n"
     ]
    }
   ],
   "source": [
    "name = \"muhammad hassan\"\n",
    "print(name.split())"
   ]
  },
  {
   "cell_type": "code",
   "execution_count": 115,
   "id": "8ad4f34c",
   "metadata": {},
   "outputs": [
    {
     "name": "stdout",
     "output_type": "stream",
     "text": [
      "['good', 'morning', 'everyone']\n"
     ]
    }
   ],
   "source": [
    "name = \"good\\nmorning\\neveryone\"\n",
    "print(name.splitlines())"
   ]
  },
  {
   "cell_type": "code",
   "execution_count": 116,
   "id": "4c47946b",
   "metadata": {},
   "outputs": [
    {
     "name": "stdout",
     "output_type": "stream",
     "text": [
      "True\n",
      "False\n"
     ]
    }
   ],
   "source": [
    "name = \"muhammad hassan\"\n",
    "print(name.startswith('muhammad'))\n",
    "print(name.startswith('hassan'))"
   ]
  },
  {
   "cell_type": "code",
   "execution_count": 120,
   "id": "6bcd2fcf",
   "metadata": {},
   "outputs": [
    {
     "name": "stdout",
     "output_type": "stream",
     "text": [
      "muhammad hassan\n"
     ]
    }
   ],
   "source": [
    "name = '------muhammad hassan------'\n",
    "print(name.strip('-'))"
   ]
  },
  {
   "cell_type": "code",
   "execution_count": 121,
   "id": "095d8303",
   "metadata": {},
   "outputs": [
    {
     "name": "stdout",
     "output_type": "stream",
     "text": [
      "mUHAMMAD hASSAN\n"
     ]
    }
   ],
   "source": [
    "name = \"Muhammad Hassan\"\n",
    "print(name.swapcase())"
   ]
  },
  {
   "cell_type": "code",
   "execution_count": 122,
   "id": "27d8d3aa",
   "metadata": {},
   "outputs": [
    {
     "name": "stdout",
     "output_type": "stream",
     "text": [
      "Muhammad Hassan\n"
     ]
    }
   ],
   "source": [
    "name = \"muhammad hassan\"\n",
    "print(name.title())"
   ]
  },
  {
   "cell_type": "code",
   "execution_count": 123,
   "id": "853a3300",
   "metadata": {},
   "outputs": [
    {
     "name": "stdout",
     "output_type": "stream",
     "text": [
      "Mgrammad Haan\n"
     ]
    }
   ],
   "source": [
    "name = \"Muhammad Hassan\"\n",
    "x = name.maketrans('uh','gr','s')\n",
    "y = name.translate(x)\n",
    "print(y)"
   ]
  },
  {
   "cell_type": "code",
   "execution_count": 124,
   "id": "18a72b67",
   "metadata": {},
   "outputs": [
    {
     "name": "stdout",
     "output_type": "stream",
     "text": [
      "MUHAMMAD HASSAN\n"
     ]
    }
   ],
   "source": [
    "name = \"Muhammad Hassan\"\n",
    "print(name.upper())"
   ]
  },
  {
   "cell_type": "code",
   "execution_count": 125,
   "id": "48e8717d",
   "metadata": {},
   "outputs": [
    {
     "name": "stdout",
     "output_type": "stream",
     "text": [
      "000000000Hassan\n"
     ]
    }
   ],
   "source": [
    "name = \"Hassan\"\n",
    "print(name.zfill(15))"
   ]
  },
  {
   "cell_type": "code",
   "execution_count": null,
   "id": "d7659561",
   "metadata": {},
   "outputs": [],
   "source": []
  }
 ],
 "metadata": {
  "kernelspec": {
   "display_name": "Python 3 (ipykernel)",
   "language": "python",
   "name": "python3"
  },
  "language_info": {
   "codemirror_mode": {
    "name": "ipython",
    "version": 3
   },
   "file_extension": ".py",
   "mimetype": "text/x-python",
   "name": "python",
   "nbconvert_exporter": "python",
   "pygments_lexer": "ipython3",
   "version": "3.9.13"
  }
 },
 "nbformat": 4,
 "nbformat_minor": 5
}
