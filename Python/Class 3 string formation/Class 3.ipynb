{
 "cells": [
  {
   "cell_type": "markdown",
   "id": "d7a04c26",
   "metadata": {},
   "source": [
    "# Text forating/formation/concatination"
   ]
  },
  {
   "cell_type": "code",
   "execution_count": 2,
   "id": "fc9c2feb",
   "metadata": {},
   "outputs": [
    {
     "ename": "SyntaxError",
     "evalue": "invalid syntax (3756658976.py, line 1)",
     "output_type": "error",
     "traceback": [
      "\u001b[1;36m  File \u001b[1;32m\"C:\\Users\\Matech\\AppData\\Local\\Temp\\ipykernel_3420\\3756658976.py\"\u001b[1;36m, line \u001b[1;32m1\u001b[0m\n\u001b[1;33m    first name = \"Muhammad Hassan\"\u001b[0m\n\u001b[1;37m          ^\u001b[0m\n\u001b[1;31mSyntaxError\u001b[0m\u001b[1;31m:\u001b[0m invalid syntax\n"
     ]
    }
   ],
   "source": [
    "first name = \"Muhammad Hassan\""
   ]
  },
  {
   "cell_type": "markdown",
   "id": "449c0e61",
   "metadata": {},
   "source": [
    "# Rules for Python variables:\n",
    "\n",
    "* A variable name must start with a letter or the underscore character\n",
    "* A variable name cannot start with a number\n",
    "* A variable name can only contain alpha-numeric characters and underscores (A-z, 0-9, and _ )\n",
    "* Variable names are case-sensitive (age, Age and AGE are three different variables)"
   ]
  },
  {
   "cell_type": "code",
   "execution_count": 3,
   "id": "e2b7256c",
   "metadata": {},
   "outputs": [
    {
     "name": "stdout",
     "output_type": "stream",
     "text": [
      "27\n"
     ]
    }
   ],
   "source": [
    "age = 27\n",
    "print(age)"
   ]
  },
  {
   "cell_type": "code",
   "execution_count": 4,
   "id": "66772373",
   "metadata": {},
   "outputs": [
    {
     "ename": "NameError",
     "evalue": "name 'Age' is not defined",
     "output_type": "error",
     "traceback": [
      "\u001b[1;31m---------------------------------------------------------------------------\u001b[0m",
      "\u001b[1;31mNameError\u001b[0m                                 Traceback (most recent call last)",
      "\u001b[1;32m~\\AppData\\Local\\Temp\\ipykernel_3420\\2955847039.py\u001b[0m in \u001b[0;36m<module>\u001b[1;34m\u001b[0m\n\u001b[1;32m----> 1\u001b[1;33m \u001b[0mprint\u001b[0m\u001b[1;33m(\u001b[0m\u001b[0mAge\u001b[0m\u001b[1;33m)\u001b[0m\u001b[1;33m\u001b[0m\u001b[1;33m\u001b[0m\u001b[0m\n\u001b[0m",
      "\u001b[1;31mNameError\u001b[0m: name 'Age' is not defined"
     ]
    }
   ],
   "source": [
    "print(Age)"
   ]
  },
  {
   "cell_type": "code",
   "execution_count": 5,
   "id": "87c21e8b",
   "metadata": {},
   "outputs": [
    {
     "name": "stdout",
     "output_type": "stream",
     "text": [
      "Hassan\n"
     ]
    }
   ],
   "source": [
    "student_name = \"Hassan\"\n",
    "print(student_name)"
   ]
  },
  {
   "cell_type": "code",
   "execution_count": 7,
   "id": "3910e382",
   "metadata": {},
   "outputs": [
    {
     "name": "stdout",
     "output_type": "stream",
     "text": [
      "6\n"
     ]
    }
   ],
   "source": [
    "a = len(\"Hassan\") #return function\n",
    "print(a)"
   ]
  },
  {
   "cell_type": "code",
   "execution_count": 9,
   "id": "0b5b835a",
   "metadata": {},
   "outputs": [
    {
     "name": "stdout",
     "output_type": "stream",
     "text": [
      "Hassan\n",
      "None\n"
     ]
    }
   ],
   "source": [
    "a = print(\"Hassan\") #non-return function\n",
    "print(a)"
   ]
  },
  {
   "cell_type": "code",
   "execution_count": 11,
   "id": "4cd16e39",
   "metadata": {},
   "outputs": [
    {
     "name": "stdout",
     "output_type": "stream",
     "text": [
      "\n",
      "Saylani Mass IT program\n",
      "Batch-4 AI and DS\n",
      "Class days: Tue and Fri\n",
      "\n",
      "None\n"
     ]
    }
   ],
   "source": [
    "a =print( \"\"\"\n",
    "Saylani Mass IT program\n",
    "Batch-4 AI and DS\n",
    "Class days: Tue and Fri\n",
    "\"\"\")\n",
    "print(a)"
   ]
  },
  {
   "cell_type": "markdown",
   "id": "7ba63249",
   "metadata": {},
   "source": [
    "# Concatination\n",
    "* **+**\n",
    "* variable_name.format(var1,var2,var3)\n",
    "* `f'`Student name:{var1}'"
   ]
  },
  {
   "cell_type": "code",
   "execution_count": 19,
   "id": "a28e8bd9",
   "metadata": {},
   "outputs": [
    {
     "name": "stdout",
     "output_type": "stream",
     "text": [
      "Institute Name: Saylani Mass IT Training\n",
      "Student Full Name: Muhammmad Hassan\n",
      "Age: 27\n"
     ]
    }
   ],
   "source": [
    "first_name = \"Muhammmad\"\n",
    "last_name = \"Hassan\"\n",
    "institute_name = \"Saylani Mass IT Training\"\n",
    "\n",
    "card = \"Institute Name: \" + institute_name + \"\\nStudent Full Name: \" + first_name + \" \" + last_name +\"\\nAge: \" + str(age)\n",
    "print(card)"
   ]
  },
  {
   "cell_type": "code",
   "execution_count": 18,
   "id": "f669ddb5",
   "metadata": {},
   "outputs": [
    {
     "name": "stdout",
     "output_type": "stream",
     "text": [
      "27 <class 'int'>\n"
     ]
    }
   ],
   "source": [
    "age = 27\n",
    "print(age ,type(age))\n",
    "\n",
    "# type casting\n",
    "age = str(age)"
   ]
  },
  {
   "cell_type": "code",
   "execution_count": 21,
   "id": "ef7bac39",
   "metadata": {},
   "outputs": [
    {
     "name": "stdout",
     "output_type": "stream",
     "text": [
      " Institute Name: Saylani Mass IT Training\n",
      "Student Full Name: Muhammmad Hassan\n",
      "Age: 27\n",
      "\n"
     ]
    }
   ],
   "source": [
    "first_name = \"Muhammmad\"\n",
    "last_name = \"Hassan\"\n",
    "institute_name = \"Saylani Mass IT Training\"\n",
    "\n",
    "card = \"\"\" Institute Name: {}\n",
    "Student Full Name: {} {}\n",
    "Age: {}\n",
    "\"\"\".format(institute_name,first_name,last_name,age)\n",
    "print(card)"
   ]
  },
  {
   "cell_type": "code",
   "execution_count": 28,
   "id": "48c7104b",
   "metadata": {},
   "outputs": [
    {
     "name": "stdout",
     "output_type": "stream",
     "text": [
      " Institute Name: 27\n",
      "Student Full Name: Hassan Muhammmad\n",
      "Age: Saylani Mass IT Training\n",
      "\n"
     ]
    }
   ],
   "source": [
    "first_name = \"Muhammmad\"\n",
    "last_name = \"Hassan\"\n",
    "institute_name = \"Saylani Mass IT Training\"\n",
    "age = 27\n",
    "\n",
    "card = \"\"\" Institute Name: {3}\n",
    "Student Full Name: {2} {1}\n",
    "Age: {0}\n",
    "\"\"\".format(institute_name,first_name,last_name,age)\n",
    "print(card)"
   ]
  },
  {
   "cell_type": "markdown",
   "id": "a3f56947",
   "metadata": {},
   "source": [
    "# with `f`"
   ]
  },
  {
   "cell_type": "code",
   "execution_count": 29,
   "id": "061e94a6",
   "metadata": {},
   "outputs": [
    {
     "name": "stdout",
     "output_type": "stream",
     "text": [
      " Institute Name: Saylani Mass IT Training\n",
      "Student Full Name: Muhammmad Hassan\n",
      "Age: 27\n",
      "\n"
     ]
    }
   ],
   "source": [
    "first_name = \"Muhammmad\"\n",
    "last_name = \"Hassan\"\n",
    "institute_name = \"Saylani Mass IT Training\"\n",
    "age = 27\n",
    "\n",
    "card = f\"\"\" Institute Name: {institute_name}\n",
    "Student Full Name: {first_name} {last_name}\n",
    "Age: {age}\n",
    "\"\"\".format(institute_name,first_name,last_name,age)\n",
    "print(card)"
   ]
  },
  {
   "cell_type": "code",
   "execution_count": 25,
   "id": "defeb12f",
   "metadata": {},
   "outputs": [
    {
     "name": "stdout",
     "output_type": "stream",
     "text": [
      " Institute Name:Saylani Mass IT Training\n",
      "Student Full Name: Muhammmad {last_name}\n",
      "Age: {age}\n",
      "\n"
     ]
    }
   ],
   "source": [
    "card = \"\"\" Institute Name:%s\n",
    "Student Full Name: %s {last_name}\n",
    "Age: {age}\n",
    "\"\"\" % (institute_name, first_name)\n",
    "print(card)"
   ]
  },
  {
   "cell_type": "code",
   "execution_count": 30,
   "id": "8a109cbe",
   "metadata": {},
   "outputs": [
    {
     "name": "stdout",
     "output_type": "stream",
     "text": [
      " Institute Name:Saylani Mass IT Training\n",
      "Student Full Name: Muhammmad Hassan\n",
      "Age: 27\n",
      "\n"
     ]
    }
   ],
   "source": [
    "card = \"\"\" Institute Name:%s\n",
    "Student Full Name: %s %s\n",
    "Age: %d\n",
    "\"\"\" % (institute_name, first_name, last_name,age)\n",
    "print(card)"
   ]
  },
  {
   "cell_type": "code",
   "execution_count": 31,
   "id": "4a678d78",
   "metadata": {},
   "outputs": [
    {
     "name": "stdout",
     "output_type": "stream",
     "text": [
      " Institute Name:Saylani Mass IT Training\n",
      "Student Full Name: Muhammmad Hassan\n",
      "Age: 27\n",
      "\n"
     ]
    }
   ],
   "source": [
    "print(card)"
   ]
  },
  {
   "cell_type": "code",
   "execution_count": 36,
   "id": "9c3b0820",
   "metadata": {},
   "outputs": [
    {
     "name": "stdout",
     "output_type": "stream",
     "text": [
      "0 capitalize\n",
      "1 casefold\n",
      "2 center\n",
      "3 count\n",
      "4 encode\n",
      "5 endswith\n",
      "6 expandtabs\n",
      "7 find\n",
      "8 format\n",
      "9 index\n",
      "10 isalnum\n",
      "11 isalpha\n",
      "12 isascii\n",
      "13 isdecimal\n",
      "14 isdigit\n",
      "15 isidentifier\n",
      "16 islower\n",
      "17 isnumeric\n",
      "18 isprintable\n",
      "19 isspace\n",
      "20 istitle\n",
      "21 isupper\n",
      "22 join\n",
      "23 ljust\n",
      "24 lower\n",
      "25 lstrip\n",
      "26 maketrans\n",
      "27 partition\n",
      "28 removeprefix\n",
      "29 removesuffix\n",
      "30 replace\n",
      "31 rfind\n",
      "32 rindex\n",
      "33 rjust\n",
      "34 rpartition\n",
      "35 rsplit\n",
      "36 rstrip\n",
      "37 split\n",
      "38 splitlines\n",
      "39 startswith\n",
      "40 strip\n",
      "41 swapcase\n",
      "42 title\n",
      "43 translate\n",
      "44 upper\n",
      "45 zfill\n"
     ]
    }
   ],
   "source": [
    "for idx, i in enumerate ([i for i in dir(card) if \"_\" not in i]):\n",
    "    print(idx,i)"
   ]
  },
  {
   "cell_type": "code",
   "execution_count": 39,
   "id": "503d40bf",
   "metadata": {},
   "outputs": [
    {
     "name": "stdout",
     "output_type": "stream",
     "text": [
      " institute name:saylani mass it training\n",
      "student full name: muhammmad hassan\n",
      "age: 27\n",
      "\n"
     ]
    }
   ],
   "source": [
    "print(card.capitalize())"
   ]
  },
  {
   "cell_type": "code",
   "execution_count": 40,
   "id": "29b431df",
   "metadata": {},
   "outputs": [
    {
     "name": "stdout",
     "output_type": "stream",
     "text": [
      " institute name:saylani mass it training\n",
      "student full name: muhammmad hassan\n",
      "age: 27\n",
      "\n"
     ]
    }
   ],
   "source": [
    "print(card.casefold())"
   ]
  },
  {
   "cell_type": "code",
   "execution_count": 46,
   "id": "ca186285",
   "metadata": {},
   "outputs": [
    {
     "name": "stdout",
     "output_type": "stream",
     "text": [
      " Institute Name:Saylani Mass IT Training\n",
      "Student Full Name: Muhammmad Hassan\n",
      "Age: 27\n",
      "\n"
     ]
    },
    {
     "data": {
      "text/plain": [
       "4"
      ]
     },
     "execution_count": 46,
     "metadata": {},
     "output_type": "execute_result"
    }
   ],
   "source": [
    "print(card)\n",
    "card.count('i')"
   ]
  },
  {
   "cell_type": "code",
   "execution_count": 45,
   "id": "6a6b7988",
   "metadata": {},
   "outputs": [
    {
     "data": {
      "text/plain": [
       "0"
      ]
     },
     "execution_count": 45,
     "metadata": {},
     "output_type": "execute_result"
    }
   ],
   "source": [
    "card.count('im')"
   ]
  },
  {
   "cell_type": "code",
   "execution_count": null,
   "id": "22e2a263",
   "metadata": {},
   "outputs": [],
   "source": []
  }
 ],
 "metadata": {
  "kernelspec": {
   "display_name": "Python 3 (ipykernel)",
   "language": "python",
   "name": "python3"
  },
  "language_info": {
   "codemirror_mode": {
    "name": "ipython",
    "version": 3
   },
   "file_extension": ".py",
   "mimetype": "text/x-python",
   "name": "python",
   "nbconvert_exporter": "python",
   "pygments_lexer": "ipython3",
   "version": "3.9.13"
  }
 },
 "nbformat": 4,
 "nbformat_minor": 5
}
