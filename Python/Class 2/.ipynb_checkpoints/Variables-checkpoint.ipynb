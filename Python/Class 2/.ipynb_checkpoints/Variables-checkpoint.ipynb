{
 "cells": [
  {
   "cell_type": "code",
   "execution_count": null,
   "id": "4d49b9ec",
   "metadata": {},
   "outputs": [],
   "source": [
    "# class 2\n",
    "* help\n",
    "  * **function_name(press shift+tab)**\n",
    "  * help function\n",
    "  * function ?\n",
    "  * function ??\n",
    "  * ? function\n",
    "  * ?? function\n",
    "* print\n",
    "  * value\n",
    "  * sep\n",
    "  * end\n",
    "* variable\n",
    "  * string\n",
    "     * start with **\"** and end with **\"**\n",
    "     * '''\" Muhammad Hassan\"'''\n",
    "  * you can also use \n",
    "     \n",
    "     \n",
    "  * number\n",
    "    * int\n",
    "        *```1```\n",
    "    * float\n",
    "    \n",
    "        * ```1.5```\n",
    "  * with print\n",
    "  \n",
    "   \n",
    "    "
   ]
  },
  {
   "cell_type": "markdown",
   "id": "2c1a0343-1468-4723-869c-ba29b59f7775",
   "metadata": {},
   "source": [
    "# class 2\n",
    "* help\n",
    "  * **function_name(press shift+tab)**\n",
    "  * help function\n",
    "  * function ?\n",
    "  * function ??\n",
    "  * ? function\n",
    "  * ?? function\n",
    "* print\n",
    "  * value\n",
    "  * sep\n",
    "  * end\n",
    "* variable\n",
    "  * string\n",
    "     * start with **\"** and end with **\"**\n",
    "     * '''\" Muhammad Hassan\"'''\n",
    "  * you can also use \n",
    "     \n",
    "     \n",
    "  * number\n",
    "    * int\n",
    "        *```1```\n",
    "    * float\n",
    "    \n",
    "        * ```1.5```\n",
    "  * with print\n",
    "  \n",
    "   \n",
    "    "
   ]
  },
  {
   "cell_type": "code",
   "execution_count": 22,
   "id": "ea0cfcad-aa3e-4958-8d6d-8f2ca5f38845",
   "metadata": {},
   "outputs": [
    {
     "name": "stdout",
     "output_type": "stream",
     "text": [
      "The Zen of Python, by Tim Peters\n",
      "\n",
      "Beautiful is better than ugly.\n",
      "Explicit is better than implicit.\n",
      "Simple is better than complex.\n",
      "Complex is better than complicated.\n",
      "Flat is better than nested.\n",
      "Sparse is better than dense.\n",
      "Readability counts.\n",
      "Special cases aren't special enough to break the rules.\n",
      "Although practicality beats purity.\n",
      "Errors should never pass silently.\n",
      "Unless explicitly silenced.\n",
      "In the face of ambiguity, refuse the temptation to guess.\n",
      "There should be one-- and preferably only one --obvious way to do it.\n",
      "Although that way may not be obvious at first unless you're Dutch.\n",
      "Now is better than never.\n",
      "Although never is often better than *right* now.\n",
      "If the implementation is hard to explain, it's a bad idea.\n",
      "If the implementation is easy to explain, it may be a good idea.\n",
      "Namespaces are one honking great idea -- let's do more of those!\n"
     ]
    }
   ],
   "source": [
    "import this"
   ]
  },
  {
   "cell_type": "code",
   "execution_count": 5,
   "id": "453a1140-383b-4517-8b92-e7ba9e53dca2",
   "metadata": {},
   "outputs": [
    {
     "name": "stdout",
     "output_type": "stream",
     "text": [
      "Help on built-in function print in module builtins:\n",
      "\n",
      "print(...)\n",
      "    print(value, ..., sep=' ', end='\\n', file=sys.stdout, flush=False)\n",
      "    \n",
      "    Prints the values to a stream, or to sys.stdout by default.\n",
      "    Optional keyword arguments:\n",
      "    file:  a file-like object (stream); defaults to the current sys.stdout.\n",
      "    sep:   string inserted between values, default a space.\n",
      "    end:   string appended after the last value, default a newline.\n",
      "    flush: whether to forcibly flush the stream.\n",
      "\n"
     ]
    }
   ],
   "source": [
    "help(print)"
   ]
  },
  {
   "cell_type": "markdown",
   "id": "3702f731-72bc-40b9-a228-5d6b104a8fcb",
   "metadata": {},
   "source": [
    "# pass values in print function"
   ]
  },
  {
   "cell_type": "code",
   "execution_count": 7,
   "id": "e6d0caa1-233f-4d8e-9a5a-5169a0c8389d",
   "metadata": {},
   "outputs": [
    {
     "name": "stdout",
     "output_type": "stream",
     "text": [
      "A B C D\n"
     ]
    }
   ],
   "source": [
    "print(\"A\",\"B\",\"C\",\"D\")"
   ]
  },
  {
   "cell_type": "code",
   "execution_count": 8,
   "id": "9600697d-80db-4431-9b0b-78f94c6e77ef",
   "metadata": {},
   "outputs": [
    {
     "name": "stdout",
     "output_type": "stream",
     "text": [
      "A B C D\n"
     ]
    }
   ],
   "source": [
    "print(\"A\",\"B\",\"C\",\"D\", sep=' ')"
   ]
  },
  {
   "cell_type": "code",
   "execution_count": 9,
   "id": "fb36f9a6-abe8-498d-ba78-b431b9ed9f00",
   "metadata": {},
   "outputs": [
    {
     "name": "stdout",
     "output_type": "stream",
     "text": [
      "ABCD\n"
     ]
    }
   ],
   "source": [
    "print(\"A\",\"B\",\"C\",\"D\", sep='')"
   ]
  },
  {
   "cell_type": "code",
   "execution_count": 10,
   "id": "3ce22739-50ca-4b23-ad95-af5a6c66f6c7",
   "metadata": {},
   "outputs": [
    {
     "name": "stdout",
     "output_type": "stream",
     "text": [
      "A***B***C***D\n"
     ]
    }
   ],
   "source": [
    "print(\"A\",\"B\",\"C\",\"D\", sep='***')"
   ]
  },
  {
   "cell_type": "code",
   "execution_count": 11,
   "id": "62e973c0-06e2-4153-87ef-ed189a9c540d",
   "metadata": {},
   "outputs": [
    {
     "name": "stdout",
     "output_type": "stream",
     "text": [
      "line 1\n",
      "line 2\n",
      "line 3\n"
     ]
    }
   ],
   "source": [
    "print(\"line 1\")\n",
    "print(\"line 2\")\n",
    "print(\"line 3\")\n"
   ]
  },
  {
   "cell_type": "code",
   "execution_count": 13,
   "id": "9a5d9cac-c000-41a2-917a-4cb594d9e357",
   "metadata": {},
   "outputs": [
    {
     "name": "stdout",
     "output_type": "stream",
     "text": [
      "line 1>>>line 2>>>line 3>>>"
     ]
    }
   ],
   "source": [
    "print(\"line 1\", end='>>>')\n",
    "print(\"line 2\", end='>>>')\n",
    "print(\"line 3\", end='>>>')\n",
    "\n"
   ]
  },
  {
   "cell_type": "code",
   "execution_count": 14,
   "id": "837268d0-a0c2-407d-91e6-3836b02b0e36",
   "metadata": {},
   "outputs": [
    {
     "name": "stdout",
     "output_type": "stream",
     "text": [
      "1 2 3 4\n",
      "A B C D\n",
      "i ii iii iv\n"
     ]
    }
   ],
   "source": [
    "print(1,2,3,4)\n",
    "print(\"A\",\"B\",\"C\",\"D\")\n",
    "print(\"i\",\"ii\",\"iii\",\"iv\")"
   ]
  },
  {
   "cell_type": "code",
   "execution_count": 16,
   "id": "dfad5e9f-93e4-47b1-9e58-a71d6872f543",
   "metadata": {},
   "outputs": [
    {
     "name": "stdout",
     "output_type": "stream",
     "text": [
      "1*2*3*4\n",
      "A<B<C<D\n",
      "i>ii>iii>iv\n"
     ]
    }
   ],
   "source": [
    "print(1,2,3,4, sep='*')\n",
    "print(\"A\",\"B\",\"C\",\"D\", sep='<')\n",
    "print(\"i\",\"ii\",\"iii\",\"iv\", sep='>')"
   ]
  },
  {
   "cell_type": "code",
   "execution_count": 17,
   "id": "7ba7ee50-38cf-4edb-9191-29829e15919e",
   "metadata": {},
   "outputs": [
    {
     "name": "stdout",
     "output_type": "stream",
     "text": [
      "1*2*3*4 A<B<C<D i>ii>iii>iv "
     ]
    }
   ],
   "source": [
    "print(1,2,3,4, sep='*', end=\" \")\n",
    "print(\"A\",\"B\",\"C\",\"D\", sep='<', end=\" \")\n",
    "print(\"i\",\"ii\",\"iii\",\"iv\", sep='>', end=\" \")"
   ]
  },
  {
   "cell_type": "markdown",
   "id": "913f6f8c-02d6-410f-b2f5-a70622cee5b7",
   "metadata": {},
   "source": [
    "# variable\n",
    "# https://peps.python.org/pep-0020/\n",
    "**variable_name = value**"
   ]
  },
  {
   "cell_type": "code",
   "execution_count": 27,
   "id": "7bce15f5-bb06-41e5-be90-1d296bbcda9d",
   "metadata": {},
   "outputs": [
    {
     "name": "stdout",
     "output_type": "stream",
     "text": [
      "muhammad hassan\n",
      "muhammad hassan\n",
      "muhammad hassan\n"
     ]
    }
   ],
   "source": [
    "user= \"muhammad hassan\"\n",
    "print(user)\n",
    "print(user)\n",
    "print(user)"
   ]
  },
  {
   "cell_type": "markdown",
   "id": "d9f698ec-40d1-425a-9a37-b10fe9f2b300",
   "metadata": {},
   "source": [
    "var name string = \"Muhammad Hassan\""
   ]
  },
  {
   "cell_type": "code",
   "execution_count": 31,
   "id": "c25fe580-4a3a-4501-9c1f-88ec06c2fcb1",
   "metadata": {},
   "outputs": [
    {
     "name": "stdout",
     "output_type": "stream",
     "text": [
      "Welcome Dear  Muhammad Hassan  Your education is BBA\n"
     ]
    }
   ],
   "source": [
    "name = \" Muhammad Hassan\"\n",
    "age = 27\n",
    "education = \"BBA\"\n",
    "\n",
    "print( \"Welcome Dear\",name, \" Your education is\", education)"
   ]
  },
  {
   "cell_type": "code",
   "execution_count": 33,
   "id": "7c8f9ed2-2942-47e4-a0a7-072fdf77e124",
   "metadata": {},
   "outputs": [
    {
     "name": "stdout",
     "output_type": "stream",
     "text": [
      "\n",
      "Saylani Mass IT program\n",
      "Batch-4 AI and DS\n",
      "Class days: Tue and Fri\n",
      "\n"
     ]
    }
   ],
   "source": [
    "card = \"\"\"\n",
    "Saylani Mass IT program\n",
    "Batch-4 AI and DS\n",
    "Class days: Tue and Fri\n",
    "\"\"\"\n",
    "print(card)"
   ]
  },
  {
   "cell_type": "code",
   "execution_count": 35,
   "id": "c3e6f70d-136f-4448-9405-2fd1aaeb16da",
   "metadata": {},
   "outputs": [
    {
     "name": "stdout",
     "output_type": "stream",
     "text": [
      "Saylani Mass IT program\n",
      "Batch-4 AI and DS\n",
      "Class days: Tue and Fri\n"
     ]
    }
   ],
   "source": [
    "card = \"Saylani Mass IT program\\nBatch-4 AI and DS\\nClass days: Tue and Fri\"\n",
    "print(card)"
   ]
  },
  {
   "cell_type": "code",
   "execution_count": 36,
   "id": "8a3a6d4a-ce2a-47bd-8eb8-33541dd3a95c",
   "metadata": {},
   "outputs": [
    {
     "name": "stdout",
     "output_type": "stream",
     "text": [
      "welcome dear Muhammad Hassan\n"
     ]
    }
   ],
   "source": [
    "message = \"welcome dear Muhammad Hassan\"\n",
    "print(message)"
   ]
  },
  {
   "cell_type": "code",
   "execution_count": 37,
   "id": "2335d300-a08a-40d7-babb-c5320b94d796",
   "metadata": {},
   "outputs": [
    {
     "name": "stdout",
     "output_type": "stream",
     "text": [
      "welcome dear \"Muhammad Hassan\"\n"
     ]
    }
   ],
   "source": [
    "message = 'welcome dear \"Muhammad Hassan\"'\n",
    "print(message)"
   ]
  },
  {
   "cell_type": "code",
   "execution_count": 38,
   "id": "90bcf3ea-cba6-4d78-9833-9174c7fb96d9",
   "metadata": {},
   "outputs": [
    {
     "name": "stdout",
     "output_type": "stream",
     "text": [
      "welcome dear 'Muhammad Hassan'\n"
     ]
    }
   ],
   "source": [
    "message = \"welcome dear 'Muhammad Hassan'\"\n",
    "print(message)"
   ]
  },
  {
   "cell_type": "markdown",
   "id": "a6454e8b-ee10-4385-bf4c-9a0a9b102e2f",
   "metadata": {},
   "source": [
    "# convert special character into normal character put \\ before this character"
   ]
  },
  {
   "cell_type": "code",
   "execution_count": 41,
   "id": "f7137c8c-5cb6-474a-bc5d-12f9739d129c",
   "metadata": {},
   "outputs": [
    {
     "name": "stdout",
     "output_type": "stream",
     "text": [
      "welcome dear \"Muhammad Hassan\" \n"
     ]
    }
   ],
   "source": [
    "message = \"welcome dear \\\"Muhammad Hassan\\\" \"\n",
    "print(message)"
   ]
  },
  {
   "cell_type": "markdown",
   "id": "f2158d72-9903-4bcb-b4e8-8ddc98dedd74",
   "metadata": {},
   "source": [
    "# apply some function on variable\n",
    " * help()\n",
    " * len()\n",
    " * id()\n",
    " * type()\n",
    " * dir()"
   ]
  },
  {
   "cell_type": "code",
   "execution_count": 54,
   "id": "bbb8d0b6-c55d-4da3-8d77-72528e6eae12",
   "metadata": {},
   "outputs": [
    {
     "name": "stdout",
     "output_type": "stream",
     "text": [
      "Muhammad Hassaan\n",
      "16\n",
      "<class 'str'>\n",
      "2444285715040\n",
      "['__add__', '__class__', '__contains__', '__delattr__', '__dir__', '__doc__', '__eq__', '__format__', '__ge__', '__getattribute__', '__getitem__', '__getnewargs__', '__gt__', '__hash__', '__init__', '__init_subclass__', '__iter__', '__le__', '__len__', '__lt__', '__mod__', '__mul__', '__ne__', '__new__', '__reduce__', '__reduce_ex__', '__repr__', '__rmod__', '__rmul__', '__setattr__', '__sizeof__', '__str__', '__subclasshook__', 'capitalize', 'casefold', 'center', 'count', 'encode', 'endswith', 'expandtabs', 'find', 'format', 'format_map', 'index', 'isalnum', 'isalpha', 'isascii', 'isdecimal', 'isdigit', 'isidentifier', 'islower', 'isnumeric', 'isprintable', 'isspace', 'istitle', 'isupper', 'join', 'ljust', 'lower', 'lstrip', 'maketrans', 'partition', 'removeprefix', 'removesuffix', 'replace', 'rfind', 'rindex', 'rjust', 'rpartition', 'rsplit', 'rstrip', 'split', 'splitlines', 'startswith', 'strip', 'swapcase', 'title', 'translate', 'upper', 'zfill']\n"
     ]
    }
   ],
   "source": [
    "name = \"Muhammad Hassaan\"\n",
    "\n",
    "print(name)\n",
    "print(len(name)) #length of variable\n",
    "print(type(name)) #vaiable type\n",
    "print(id(name)) #memory address of variable\n",
    "print(dir(name)) #all methods and attributes of variable"
   ]
  },
  {
   "cell_type": "code",
   "execution_count": 57,
   "id": "35e4dda9-f400-4c7c-88eb-c7b020c6c916",
   "metadata": {},
   "outputs": [
    {
     "name": "stdout",
     "output_type": "stream",
     "text": [
      "27\n",
      "<class 'int'>\n",
      "2444164623472\n",
      "['__abs__', '__add__', '__and__', '__bool__', '__ceil__', '__class__', '__delattr__', '__dir__', '__divmod__', '__doc__', '__eq__', '__float__', '__floor__', '__floordiv__', '__format__', '__ge__', '__getattribute__', '__getnewargs__', '__gt__', '__hash__', '__index__', '__init__', '__init_subclass__', '__int__', '__invert__', '__le__', '__lshift__', '__lt__', '__mod__', '__mul__', '__ne__', '__neg__', '__new__', '__or__', '__pos__', '__pow__', '__radd__', '__rand__', '__rdivmod__', '__reduce__', '__reduce_ex__', '__repr__', '__rfloordiv__', '__rlshift__', '__rmod__', '__rmul__', '__ror__', '__round__', '__rpow__', '__rrshift__', '__rshift__', '__rsub__', '__rtruediv__', '__rxor__', '__setattr__', '__sizeof__', '__str__', '__sub__', '__subclasshook__', '__truediv__', '__trunc__', '__xor__', 'as_integer_ratio', 'bit_length', 'conjugate', 'denominator', 'from_bytes', 'imag', 'numerator', 'real', 'to_bytes']\n"
     ]
    }
   ],
   "source": [
    "age = 27\n",
    "\n",
    "print(age)\n",
    "# print(len(age)) #length of variable\n",
    "print(type(age)) #vaiable type\n",
    "print(id(age)) #memory address of variable\n",
    "print(dir(age)) #all methods and attributes of variable"
   ]
  },
  {
   "cell_type": "code",
   "execution_count": null,
   "id": "541a3ac5-049a-482b-8297-4e15d6372519",
   "metadata": {},
   "outputs": [],
   "source": []
  }
 ],
 "metadata": {
  "kernelspec": {
   "display_name": "Python 3 (ipykernel)",
   "language": "python",
   "name": "python3"
  },
  "language_info": {
   "codemirror_mode": {
    "name": "ipython",
    "version": 3
   },
   "file_extension": ".py",
   "mimetype": "text/x-python",
   "name": "python",
   "nbconvert_exporter": "python",
   "pygments_lexer": "ipython3",
   "version": "3.9.13"
  }
 },
 "nbformat": 4,
 "nbformat_minor": 5
}
