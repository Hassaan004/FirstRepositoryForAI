{
 "cells": [
  {
   "cell_type": "markdown",
   "id": "617ca173",
   "metadata": {},
   "source": [
    "# Python Operators\n",
    "Operators are used to perform operations on variables and values.<br>\n",
    "\n",
    "In the example below, we use the + operator to add together two values:"
   ]
  },
  {
   "cell_type": "code",
   "execution_count": 5,
   "id": "6aec6e20",
   "metadata": {},
   "outputs": [
    {
     "name": "stdout",
     "output_type": "stream",
     "text": [
      "4\n"
     ]
    }
   ],
   "source": [
    "#    operand operator     operand\n",
    "print(2         +             2) #addition operation"
   ]
  },
  {
   "cell_type": "code",
   "execution_count": 4,
   "id": "0a339ce2",
   "metadata": {},
   "outputs": [
    {
     "name": "stdout",
     "output_type": "stream",
     "text": [
      "10\n"
     ]
    }
   ],
   "source": [
    "num1= 7\n",
    "num2= 3\n",
    "print(num1 + num2)"
   ]
  },
  {
   "cell_type": "code",
   "execution_count": 6,
   "id": "62fc8e15",
   "metadata": {},
   "outputs": [
    {
     "name": "stdout",
     "output_type": "stream",
     "text": [
      "73\n"
     ]
    }
   ],
   "source": [
    "num1= \"7\"\n",
    "num2= \"3\"\n",
    "print(num1 + num2) #concatination"
   ]
  },
  {
   "cell_type": "code",
   "execution_count": 8,
   "id": "2f6e46a1",
   "metadata": {},
   "outputs": [
    {
     "name": "stdout",
     "output_type": "stream",
     "text": [
      "num1:<class 'str'> num2 : <class 'int'>\n"
     ]
    },
    {
     "ename": "TypeError",
     "evalue": "can only concatenate str (not \"int\") to str",
     "output_type": "error",
     "traceback": [
      "\u001b[1;31m---------------------------------------------------------------------------\u001b[0m",
      "\u001b[1;31mTypeError\u001b[0m                                 Traceback (most recent call last)",
      "\u001b[1;32m~\\AppData\\Local\\Temp\\ipykernel_8236\\1407903759.py\u001b[0m in \u001b[0;36m<module>\u001b[1;34m\u001b[0m\n\u001b[0;32m      2\u001b[0m \u001b[0mnum2\u001b[0m\u001b[1;33m=\u001b[0m \u001b[1;36m3\u001b[0m \u001b[1;31m#integer\u001b[0m\u001b[1;33m\u001b[0m\u001b[1;33m\u001b[0m\u001b[0m\n\u001b[0;32m      3\u001b[0m \u001b[0mprint\u001b[0m\u001b[1;33m(\u001b[0m\u001b[1;34mf\"num1:{type(num1)} num2 : {type(num2)}\"\u001b[0m\u001b[1;33m)\u001b[0m\u001b[1;33m\u001b[0m\u001b[1;33m\u001b[0m\u001b[0m\n\u001b[1;32m----> 4\u001b[1;33m \u001b[0mprint\u001b[0m\u001b[1;33m(\u001b[0m\u001b[0mnum1\u001b[0m \u001b[1;33m+\u001b[0m \u001b[0mnum2\u001b[0m\u001b[1;33m)\u001b[0m \u001b[1;31m#concatination\u001b[0m\u001b[1;33m\u001b[0m\u001b[1;33m\u001b[0m\u001b[0m\n\u001b[0m",
      "\u001b[1;31mTypeError\u001b[0m: can only concatenate str (not \"int\") to str"
     ]
    }
   ],
   "source": [
    "num1= \"7\" #string\n",
    "num2= 3 #integer\n",
    "print(f\"num1:{type(num1)} num2 : {type(num2)}\")\n",
    "print(num1 + num2) #concatination"
   ]
  },
  {
   "cell_type": "code",
   "execution_count": 10,
   "id": "5f33ba85",
   "metadata": {},
   "outputs": [
    {
     "name": "stdout",
     "output_type": "stream",
     "text": [
      "num1:<class 'int'> num2 : <class 'str'>\n"
     ]
    },
    {
     "ename": "TypeError",
     "evalue": "unsupported operand type(s) for +: 'int' and 'str'",
     "output_type": "error",
     "traceback": [
      "\u001b[1;31m---------------------------------------------------------------------------\u001b[0m",
      "\u001b[1;31mTypeError\u001b[0m                                 Traceback (most recent call last)",
      "\u001b[1;32m~\\AppData\\Local\\Temp\\ipykernel_8236\\2890798624.py\u001b[0m in \u001b[0;36m<module>\u001b[1;34m\u001b[0m\n\u001b[0;32m      2\u001b[0m \u001b[0mnum2\u001b[0m\u001b[1;33m=\u001b[0m \u001b[1;34m\"7\"\u001b[0m \u001b[1;31m#string\u001b[0m\u001b[1;33m\u001b[0m\u001b[1;33m\u001b[0m\u001b[0m\n\u001b[0;32m      3\u001b[0m \u001b[0mprint\u001b[0m\u001b[1;33m(\u001b[0m\u001b[1;34mf\"num1:{type(num1)} num2 : {type(num2)}\"\u001b[0m\u001b[1;33m)\u001b[0m\u001b[1;33m\u001b[0m\u001b[1;33m\u001b[0m\u001b[0m\n\u001b[1;32m----> 4\u001b[1;33m \u001b[0mprint\u001b[0m\u001b[1;33m(\u001b[0m\u001b[0mnum1\u001b[0m \u001b[1;33m+\u001b[0m \u001b[0mnum2\u001b[0m\u001b[1;33m)\u001b[0m \u001b[1;31m#concatination\u001b[0m\u001b[1;33m\u001b[0m\u001b[1;33m\u001b[0m\u001b[0m\n\u001b[0m",
      "\u001b[1;31mTypeError\u001b[0m: unsupported operand type(s) for +: 'int' and 'str'"
     ]
    }
   ],
   "source": [
    "num1= 3 #integer\n",
    "num2= \"7\" #string\n",
    "print(f\"num1:{type(num1)} num2 : {type(num2)}\")\n",
    "print(num1 + num2) #concatination"
   ]
  },
  {
   "cell_type": "code",
   "execution_count": 14,
   "id": "660696ac",
   "metadata": {},
   "outputs": [
    {
     "name": "stdout",
     "output_type": "stream",
     "text": [
      "num1:<class 'list'> num2 : <class 'list'>\n",
      "['a', 'b', 'c'] [1, 2, 3]\n",
      "['a', 'b', 'c', 1, 2, 3]\n"
     ]
    }
   ],
   "source": [
    "list1 = ['a','b','c']\n",
    "list2 = [1,2,3]\n",
    "print(f\"num1:{type(list1)} num2 : {type(list2)}\")\n",
    "print(list1,list2)\n",
    "print(list1 + list2) #combine lists"
   ]
  },
  {
   "cell_type": "markdown",
   "id": "8f3b82ef",
   "metadata": {},
   "source": [
    "# Python divides the operators in the following groups:\n",
    "\n",
    "* Arithmetic operators\n",
    "* Assignment operators\n",
    "* Comparison operators\n",
    "* Logical operators\n",
    "* Identity operators\n",
    "* Membership operators\n",
    "* Bitwise operators"
   ]
  },
  {
   "cell_type": "markdown",
   "id": "5527771d",
   "metadata": {},
   "source": [
    "# Python Arithmetic Operations"
   ]
  },
  {
   "cell_type": "code",
   "execution_count": 23,
   "id": "6ff2766a",
   "metadata": {},
   "outputs": [
    {
     "name": "stdout",
     "output_type": "stream",
     "text": [
      "Operator\tName\tExample\tTry it\n",
      "+\tAddition\tx + y\t\n",
      "-\tSubtraction\tx - y\t\n",
      "*\tMultiplication\tx * y\t\n",
      "/\tDivision\tx / y\t\n",
      "%\tModulus\tx % y\t\n",
      "**\tExponentiation\tx ** y\t\n",
      "//\tFloor division\tx // y\n",
      "\n"
     ]
    }
   ],
   "source": [
    "x =\"\"\"Operator\tName\tExample\tTry it\n",
    "+\tAddition\tx + y\t\n",
    "-\tSubtraction\tx - y\t\n",
    "*\tMultiplication\tx * y\t\n",
    "/\tDivision\tx / y\t\n",
    "%\tModulus\tx % y\t\n",
    "**\tExponentiation\tx ** y\t\n",
    "//\tFloor division\tx // y\n",
    "\"\"\"\n",
    "print(x)"
   ]
  },
  {
   "cell_type": "code",
   "execution_count": 27,
   "id": "b06ab7ee",
   "metadata": {},
   "outputs": [
    {
     "name": "stdout",
     "output_type": "stream",
     "text": [
      "2.0\n"
     ]
    }
   ],
   "source": [
    "x= 10\n",
    "y= 5\n",
    "print(x / y) #float"
   ]
  },
  {
   "cell_type": "code",
   "execution_count": 28,
   "id": "c9a98eec",
   "metadata": {},
   "outputs": [
    {
     "name": "stdout",
     "output_type": "stream",
     "text": [
      "5\n"
     ]
    }
   ],
   "source": [
    "x= 10\n",
    "y= 5\n",
    "print(x - y)"
   ]
  },
  {
   "cell_type": "code",
   "execution_count": 29,
   "id": "6755bf57",
   "metadata": {},
   "outputs": [
    {
     "name": "stdout",
     "output_type": "stream",
     "text": [
      "1\n"
     ]
    }
   ],
   "source": [
    "x= 11\n",
    "y= 5\n",
    "print(x % y)"
   ]
  },
  {
   "cell_type": "code",
   "execution_count": 32,
   "id": "d669ea23",
   "metadata": {},
   "outputs": [
    {
     "name": "stdout",
     "output_type": "stream",
     "text": [
      "121\n",
      "9\n"
     ]
    }
   ],
   "source": [
    "x= 11\n",
    "y= 2\n",
    "print(x ** y)\n",
    "print(3 ** 2)"
   ]
  },
  {
   "cell_type": "code",
   "execution_count": 35,
   "id": "92b900aa",
   "metadata": {},
   "outputs": [
    {
     "name": "stdout",
     "output_type": "stream",
     "text": [
      "4\n",
      "1.5\n",
      "1\n"
     ]
    }
   ],
   "source": [
    "x= 13\n",
    "y= 3\n",
    "print(x // y)\n",
    "print(3 / 2)\n",
    "print(3 // 2)"
   ]
  },
  {
   "cell_type": "markdown",
   "id": "f025b484",
   "metadata": {},
   "source": [
    "# Python Assignment Operators\n",
    "Assignment operators are used to assign values to variables:"
   ]
  },
  {
   "cell_type": "code",
   "execution_count": 37,
   "id": "588904db",
   "metadata": {},
   "outputs": [
    {
     "name": "stdout",
     "output_type": "stream",
     "text": [
      "5\n"
     ]
    }
   ],
   "source": [
    "a = 5\n",
    "print(a)"
   ]
  },
  {
   "cell_type": "code",
   "execution_count": 42,
   "id": "597ea50d",
   "metadata": {},
   "outputs": [
    {
     "name": "stdout",
     "output_type": "stream",
     "text": [
      "5\n",
      "5\n",
      "6\n"
     ]
    }
   ],
   "source": [
    "a = 5\n",
    "print(a)\n",
    "print(a)\n",
    "a += 1 #add 1 into a\n",
    "print(a)"
   ]
  },
  {
   "cell_type": "code",
   "execution_count": 41,
   "id": "b06579c3",
   "metadata": {},
   "outputs": [
    {
     "name": "stdout",
     "output_type": "stream",
     "text": [
      "3\n"
     ]
    }
   ],
   "source": [
    "a = 1\n",
    "a = 3 #overwrite old value with new value\n",
    "print(a)"
   ]
  },
  {
   "cell_type": "code",
   "execution_count": 43,
   "id": "f823d5f5",
   "metadata": {},
   "outputs": [
    {
     "name": "stdout",
     "output_type": "stream",
     "text": [
      "7\n"
     ]
    }
   ],
   "source": [
    "a = 10\n",
    "a -= 3\n",
    "print(a)"
   ]
  },
  {
   "cell_type": "code",
   "execution_count": 44,
   "id": "e34cee1d",
   "metadata": {},
   "outputs": [
    {
     "name": "stdout",
     "output_type": "stream",
     "text": [
      "30\n"
     ]
    }
   ],
   "source": [
    "a = 10\n",
    "a *= 3\n",
    "print(a)"
   ]
  },
  {
   "cell_type": "code",
   "execution_count": 47,
   "id": "211acaff",
   "metadata": {},
   "outputs": [
    {
     "name": "stdout",
     "output_type": "stream",
     "text": [
      "4\n"
     ]
    }
   ],
   "source": [
    "x = 4\n",
    "x = x & 6\n",
    "print(x)"
   ]
  },
  {
   "cell_type": "markdown",
   "id": "92260990",
   "metadata": {},
   "source": [
    "# Python Comparison Operators\n",
    "Comparison operators are used to compare two values:"
   ]
  },
  {
   "cell_type": "code",
   "execution_count": 48,
   "id": "caf77b57",
   "metadata": {},
   "outputs": [
    {
     "name": "stdout",
     "output_type": "stream",
     "text": [
      "True\n"
     ]
    }
   ],
   "source": [
    "a = 5\n",
    "b = 5\n",
    "print( a == b)"
   ]
  },
  {
   "cell_type": "code",
   "execution_count": 49,
   "id": "f32eaed4",
   "metadata": {},
   "outputs": [
    {
     "name": "stdout",
     "output_type": "stream",
     "text": [
      "False\n"
     ]
    }
   ],
   "source": [
    "a = 5\n",
    "b = 7\n",
    "print( a == b)"
   ]
  },
  {
   "cell_type": "code",
   "execution_count": 50,
   "id": "18e2642e",
   "metadata": {},
   "outputs": [
    {
     "name": "stdout",
     "output_type": "stream",
     "text": [
      "False\n"
     ]
    }
   ],
   "source": [
    "a = 5\n",
    "b = 8\n",
    "print( a > b)"
   ]
  },
  {
   "cell_type": "code",
   "execution_count": 51,
   "id": "239983d6",
   "metadata": {},
   "outputs": [
    {
     "name": "stdout",
     "output_type": "stream",
     "text": [
      "True\n"
     ]
    }
   ],
   "source": [
    "a = 5\n",
    "b = 5\n",
    "print( a <= b)"
   ]
  },
  {
   "cell_type": "code",
   "execution_count": 52,
   "id": "acd6524c",
   "metadata": {},
   "outputs": [
    {
     "name": "stdout",
     "output_type": "stream",
     "text": [
      "False\n"
     ]
    }
   ],
   "source": [
    "a = 9\n",
    "b = 5\n",
    "print( a <= b)"
   ]
  },
  {
   "cell_type": "code",
   "execution_count": 55,
   "id": "7ef8658a",
   "metadata": {},
   "outputs": [
    {
     "name": "stdout",
     "output_type": "stream",
     "text": [
      "False\n"
     ]
    }
   ],
   "source": [
    "a = 5\n",
    "b = 5\n",
    "print(a != b)"
   ]
  },
  {
   "cell_type": "code",
   "execution_count": 62,
   "id": "56cc08e1",
   "metadata": {},
   "outputs": [
    {
     "name": "stdout",
     "output_type": "stream",
     "text": [
      "False\n"
     ]
    }
   ],
   "source": [
    "a = 'qasim'\n",
    "b = 'hassaan'\n",
    "print(a == b)"
   ]
  },
  {
   "cell_type": "code",
   "execution_count": 64,
   "id": "b7dc08ac",
   "metadata": {},
   "outputs": [
    {
     "name": "stdout",
     "output_type": "stream",
     "text": [
      "False\n"
     ]
    }
   ],
   "source": [
    "a = 'qasim'\n",
    "b = 'qasim'\n",
    "print(a > b)"
   ]
  },
  {
   "cell_type": "code",
   "execution_count": 65,
   "id": "04303c7b",
   "metadata": {},
   "outputs": [
    {
     "name": "stdout",
     "output_type": "stream",
     "text": [
      "True\n"
     ]
    }
   ],
   "source": [
    "a = 'qasim'\n",
    "b = 'qasim'\n",
    "print(a >= b)"
   ]
  },
  {
   "cell_type": "code",
   "execution_count": 66,
   "id": "eb04a1c4",
   "metadata": {},
   "outputs": [
    {
     "data": {
      "text/plain": [
       "'7'"
      ]
     },
     "execution_count": 66,
     "metadata": {},
     "output_type": "execute_result"
    }
   ],
   "source": [
    "chr(55)"
   ]
  },
  {
   "cell_type": "code",
   "execution_count": 68,
   "id": "1097aac1",
   "metadata": {},
   "outputs": [
    {
     "data": {
      "text/plain": [
       "55"
      ]
     },
     "execution_count": 68,
     "metadata": {},
     "output_type": "execute_result"
    }
   ],
   "source": [
    "ord('7')"
   ]
  },
  {
   "cell_type": "markdown",
   "id": "b0a8faf8",
   "metadata": {},
   "source": [
    "# Python Logical Operators\n",
    "Logical operators are used to combine conditional statements:"
   ]
  },
  {
   "cell_type": "code",
   "execution_count": 72,
   "id": "13b7a7d0",
   "metadata": {},
   "outputs": [
    {
     "name": "stdout",
     "output_type": "stream",
     "text": [
      "True\n",
      "False\n",
      "False\n"
     ]
    }
   ],
   "source": [
    "#   logic   operator  l    op  l   op   l\n",
    "print(True    and    True and True and True)\n",
    "print(True and True and False and True)\n",
    "print(False and False and False and False)"
   ]
  },
  {
   "cell_type": "code",
   "execution_count": 73,
   "id": "0c1f13f4",
   "metadata": {},
   "outputs": [
    {
     "name": "stdout",
     "output_type": "stream",
     "text": [
      "True\n",
      "True\n",
      "False\n"
     ]
    }
   ],
   "source": [
    "#   logic   operator  l    op    l   op   l\n",
    "print(True    or     True  or  True  or  True)\n",
    "print(True or True or False or True)\n",
    "print(False or False or False or False)"
   ]
  },
  {
   "cell_type": "code",
   "execution_count": 75,
   "id": "8a6f4f27",
   "metadata": {},
   "outputs": [
    {
     "data": {
      "text/plain": [
       "False"
      ]
     },
     "execution_count": 75,
     "metadata": {},
     "output_type": "execute_result"
    }
   ],
   "source": [
    "not True"
   ]
  },
  {
   "cell_type": "code",
   "execution_count": 79,
   "id": "0ea28101",
   "metadata": {},
   "outputs": [
    {
     "name": "stdout",
     "output_type": "stream",
     "text": [
      "enter your passwordPakistan\n",
      "False\n",
      "True\n",
      "Pakistan\n"
     ]
    }
   ],
   "source": [
    "password = input(\"enter your password\")\n",
    "print(password =='abc')\n",
    "print(not password =='abc')\n",
    "print(password)"
   ]
  },
  {
   "cell_type": "markdown",
   "id": "30ab2f50",
   "metadata": {},
   "source": [
    "# Python Identity Operators\n",
    "Identity operators are used to compare the objects, not if they are equal, but if they are actually the same object, with the same memory location:"
   ]
  },
  {
   "cell_type": "markdown",
   "id": "744f619b",
   "metadata": {},
   "source": [
    "# Shallow copy"
   ]
  },
  {
   "cell_type": "code",
   "execution_count": 81,
   "id": "984128c3",
   "metadata": {},
   "outputs": [
    {
     "name": "stdout",
     "output_type": "stream",
     "text": [
      "2812975671728 2812975671728 2812975671728\n",
      "5\n",
      "5\n",
      "5\n"
     ]
    }
   ],
   "source": [
    "a = 5\n",
    "b = 5\n",
    "c = 5\n",
    "print(id(a), id(b), id(c))\n",
    "print(a)\n",
    "print(b)\n",
    "print(c)"
   ]
  },
  {
   "cell_type": "code",
   "execution_count": 82,
   "id": "979b7fe2",
   "metadata": {},
   "outputs": [
    {
     "name": "stdout",
     "output_type": "stream",
     "text": [
      "2812975671728 2812977911408\n"
     ]
    }
   ],
   "source": [
    "a = 5\n",
    "b = '5'\n",
    "print(id(a), id(b))"
   ]
  },
  {
   "cell_type": "markdown",
   "id": "0156f3be",
   "metadata": {},
   "source": [
    "# Deep copy"
   ]
  },
  {
   "cell_type": "code",
   "execution_count": 87,
   "id": "175e23e7",
   "metadata": {},
   "outputs": [
    {
     "name": "stdout",
     "output_type": "stream",
     "text": [
      "['Hassaan'] ['Hassaan']\n",
      "True\n",
      "2813072479168 2813072485696\n",
      "False\n"
     ]
    }
   ],
   "source": [
    "saylani = [\"Hassaan\"]\n",
    "student = saylani.copy()\n",
    "print(saylani, student)\n",
    "print(saylani == student)\n",
    "print(id(saylani), id(student))\n",
    "print(saylani is student)"
   ]
  },
  {
   "cell_type": "code",
   "execution_count": 88,
   "id": "829f0aef",
   "metadata": {},
   "outputs": [
    {
     "name": "stdout",
     "output_type": "stream",
     "text": [
      "['Hassaan'] ['Hassaan']\n",
      "True\n",
      "2813071665728 2813072581760\n",
      "True\n"
     ]
    }
   ],
   "source": [
    "saylani = [\"Hassaan\"]\n",
    "student = saylani.copy()\n",
    "print(saylani, student)\n",
    "print(saylani == student)\n",
    "print(id(saylani), id(student))\n",
    "print(saylani is not student)"
   ]
  },
  {
   "cell_type": "markdown",
   "id": "e159317e",
   "metadata": {},
   "source": [
    "# Python Membership Operators\n",
    "Membership operators are used to test if a sequence is presented in an object:"
   ]
  },
  {
   "cell_type": "code",
   "execution_count": 92,
   "id": "f274cae0",
   "metadata": {},
   "outputs": [
    {
     "name": "stdout",
     "output_type": "stream",
     "text": [
      "True\n",
      "False\n"
     ]
    }
   ],
   "source": [
    "message = \"Islam Zindabad\"\n",
    "print('Islam' in message)\n",
    "print('Pakistan' in message)"
   ]
  },
  {
   "cell_type": "code",
   "execution_count": 95,
   "id": "811480d7",
   "metadata": {},
   "outputs": [
    {
     "name": "stdout",
     "output_type": "stream",
     "text": [
      "True\n",
      "False\n"
     ]
    }
   ],
   "source": [
    "name = ['qasim','atif','hasssaan','maaz']\n",
    "print(\"atif\" in name)\n",
    "print('qasim' not in name)"
   ]
  },
  {
   "cell_type": "code",
   "execution_count": null,
   "id": "52f9fb51",
   "metadata": {},
   "outputs": [],
   "source": []
  }
 ],
 "metadata": {
  "kernelspec": {
   "display_name": "Python 3 (ipykernel)",
   "language": "python",
   "name": "python3"
  },
  "language_info": {
   "codemirror_mode": {
    "name": "ipython",
    "version": 3
   },
   "file_extension": ".py",
   "mimetype": "text/x-python",
   "name": "python",
   "nbconvert_exporter": "python",
   "pygments_lexer": "ipython3",
   "version": "3.9.13"
  }
 },
 "nbformat": 4,
 "nbformat_minor": 5
}
