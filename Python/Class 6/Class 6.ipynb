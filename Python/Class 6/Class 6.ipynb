{
 "cells": [
  {
   "cell_type": "markdown",
   "id": "fc5b813d",
   "metadata": {},
   "source": [
    "# Topics\n",
    "* List Comprehensive\n",
    "* Tuple\n",
    "* Set\n",
    "* Dictionary"
   ]
  },
  {
   "cell_type": "code",
   "execution_count": 2,
   "id": "a9b59270",
   "metadata": {},
   "outputs": [
    {
     "data": {
      "text/plain": [
       "range(0, 11)"
      ]
     },
     "execution_count": 2,
     "metadata": {},
     "output_type": "execute_result"
    }
   ],
   "source": [
    "range(11) # generator funtion. khud sy nahi chaly ga"
   ]
  },
  {
   "cell_type": "code",
   "execution_count": 4,
   "id": "1f89ff2c",
   "metadata": {},
   "outputs": [
    {
     "name": "stdout",
     "output_type": "stream",
     "text": [
      "0\n",
      "1\n",
      "2\n",
      "3\n",
      "4\n",
      "5\n",
      "6\n",
      "7\n",
      "8\n",
      "9\n",
      "10\n"
     ]
    }
   ],
   "source": [
    "for i in range(11):\n",
    "    print(i)"
   ]
  },
  {
   "cell_type": "code",
   "execution_count": 5,
   "id": "e4b34621",
   "metadata": {},
   "outputs": [
    {
     "name": "stdout",
     "output_type": "stream",
     "text": [
      "1\n",
      "2\n",
      "3\n",
      "4\n",
      "5\n",
      "6\n",
      "7\n",
      "8\n",
      "9\n",
      "10\n"
     ]
    }
   ],
   "source": [
    "for i in range(1,11):\n",
    "    print(i)"
   ]
  },
  {
   "cell_type": "code",
   "execution_count": 6,
   "id": "a91ecf5e",
   "metadata": {},
   "outputs": [
    {
     "name": "stdout",
     "output_type": "stream",
     "text": [
      "iteration no. 1\n",
      "iteration no. 2\n",
      "iteration no. 3\n",
      "iteration no. 4\n",
      "iteration no. 5\n",
      "iteration no. 6\n",
      "iteration no. 7\n",
      "iteration no. 8\n",
      "iteration no. 9\n",
      "iteration no. 10\n"
     ]
    }
   ],
   "source": [
    "for i in range(1,11):\n",
    "    print(\"iteration no.\",i)"
   ]
  },
  {
   "cell_type": "code",
   "execution_count": 7,
   "id": "2ad00de0",
   "metadata": {},
   "outputs": [
    {
     "name": "stdout",
     "output_type": "stream",
     "text": [
      "iteration no.\n",
      "iteration no.\n",
      "iteration no.\n",
      "iteration no.\n",
      "iteration no.\n",
      "iteration no.\n",
      "iteration no.\n",
      "iteration no.\n",
      "iteration no.\n",
      "iteration no.\n"
     ]
    }
   ],
   "source": [
    "for i in range(1,11):\n",
    "    print(\"iteration no.\")"
   ]
  },
  {
   "cell_type": "code",
   "execution_count": 11,
   "id": "566ae42a",
   "metadata": {},
   "outputs": [
    {
     "name": "stdout",
     "output_type": "stream",
     "text": [
      "2 X 1 = 2\n",
      "2 X 2 = 4\n",
      "2 X 3 = 6\n",
      "2 X 4 = 8\n",
      "2 X 5 = 10\n",
      "2 X 6 = 12\n",
      "2 X 7 = 14\n",
      "2 X 8 = 16\n",
      "2 X 9 = 18\n",
      "2 X 10 = 20\n"
     ]
    }
   ],
   "source": [
    "for i in range(1,11):\n",
    "    print(f\"{2} X {i} = {2*i}\")"
   ]
  },
  {
   "cell_type": "code",
   "execution_count": 16,
   "id": "715ed699",
   "metadata": {},
   "outputs": [
    {
     "name": "stdout",
     "output_type": "stream",
     "text": [
      "Enter number for table generation:8\n",
      "8 X 1 = 8\n",
      "8 X 2 = 16\n",
      "8 X 3 = 24\n",
      "8 X 4 = 32\n",
      "8 X 5 = 40\n",
      "8 X 6 = 48\n",
      "8 X 7 = 56\n",
      "8 X 8 = 64\n",
      "8 X 9 = 72\n",
      "8 X 10 = 80\n"
     ]
    }
   ],
   "source": [
    "table = int(input(\"Enter number for table generation:\"))\n",
    "for i in range(1,11):\n",
    "    print(f\"{table} X {i} = {table*i}\")"
   ]
  },
  {
   "cell_type": "code",
   "execution_count": 17,
   "id": "c4ef4c10",
   "metadata": {},
   "outputs": [
    {
     "name": "stdout",
     "output_type": "stream",
     "text": [
      "iteration no 1\n",
      "iteration no 2\n",
      "iteration no 3\n",
      "iteration no 4\n",
      "iteration no 5\n",
      "iteration no 6\n",
      "iteration no 7\n",
      "iteration no 8\n",
      "iteration no 9\n",
      "iteration no 10\n"
     ]
    },
    {
     "data": {
      "text/plain": [
       "[None, None, None, None, None, None, None, None, None, None]"
      ]
     },
     "execution_count": 17,
     "metadata": {},
     "output_type": "execute_result"
    }
   ],
   "source": [
    "[print(\"iteration no\",i) for i in range(1,11)]"
   ]
  },
  {
   "cell_type": "code",
   "execution_count": 18,
   "id": "b0c7f3cc",
   "metadata": {},
   "outputs": [
    {
     "data": {
      "text/plain": [
       "['iteration no 1',\n",
       " 'iteration no 2',\n",
       " 'iteration no 3',\n",
       " 'iteration no 4',\n",
       " 'iteration no 5',\n",
       " 'iteration no 6',\n",
       " 'iteration no 7',\n",
       " 'iteration no 8',\n",
       " 'iteration no 9',\n",
       " 'iteration no 10']"
      ]
     },
     "execution_count": 18,
     "metadata": {},
     "output_type": "execute_result"
    }
   ],
   "source": [
    "[f\"iteration no {i}\" for i in range(1,11)]"
   ]
  },
  {
   "cell_type": "code",
   "execution_count": 19,
   "id": "9594f178",
   "metadata": {},
   "outputs": [
    {
     "data": {
      "text/plain": [
       "[1, 2, 3, 4, 5, 6, 7, 8, 9, 10]"
      ]
     },
     "execution_count": 19,
     "metadata": {},
     "output_type": "execute_result"
    }
   ],
   "source": [
    "[i for i in range(1,11)]"
   ]
  },
  {
   "cell_type": "code",
   "execution_count": 20,
   "id": "3fd65d5f",
   "metadata": {},
   "outputs": [
    {
     "data": {
      "text/plain": [
       "[3, 4, 5, 6, 7, 8, 9, 10, 11, 12]"
      ]
     },
     "execution_count": 20,
     "metadata": {},
     "output_type": "execute_result"
    }
   ],
   "source": [
    "[i+5//2 for i in range(1,11)]"
   ]
  },
  {
   "cell_type": "code",
   "execution_count": 24,
   "id": "1c8aadcc",
   "metadata": {},
   "outputs": [
    {
     "name": "stdout",
     "output_type": "stream",
     "text": [
      "(1, 1) \n",
      "(2, 1) (2, 2) \n",
      "(3, 1) (3, 2) (3, 3) \n",
      "(4, 1) (4, 2) (4, 3) (4, 4) \n",
      "(5, 1) (5, 2) (5, 3) (5, 4) (5, 5) \n",
      "(6, 1) (6, 2) (6, 3) (6, 4) (6, 5) (6, 6) \n",
      "(7, 1) (7, 2) (7, 3) (7, 4) (7, 5) (7, 6) (7, 7) \n",
      "(8, 1) (8, 2) (8, 3) (8, 4) (8, 5) (8, 6) (8, 7) (8, 8) \n",
      "(9, 1) (9, 2) (9, 3) (9, 4) (9, 5) (9, 6) (9, 7) (9, 8) (9, 9) \n",
      "(10, 1) (10, 2) (10, 3) (10, 4) (10, 5) (10, 6) (10, 7) (10, 8) (10, 9) (10, 10) \n"
     ]
    }
   ],
   "source": [
    "for i in range(1,11): \n",
    "    for j in range(1,i+1):\n",
    "        print((i,j),end=\" \")\n",
    "    print()\n",
    "\n",
    "        "
   ]
  },
  {
   "cell_type": "code",
   "execution_count": 25,
   "id": "cd79c642",
   "metadata": {},
   "outputs": [
    {
     "data": {
      "text/plain": [
       "[1,\n",
       " 2,\n",
       " 4,\n",
       " 3,\n",
       " 6,\n",
       " 9,\n",
       " 4,\n",
       " 8,\n",
       " 12,\n",
       " 16,\n",
       " 5,\n",
       " 10,\n",
       " 15,\n",
       " 20,\n",
       " 25,\n",
       " 6,\n",
       " 12,\n",
       " 18,\n",
       " 24,\n",
       " 30,\n",
       " 36,\n",
       " 7,\n",
       " 14,\n",
       " 21,\n",
       " 28,\n",
       " 35,\n",
       " 42,\n",
       " 49,\n",
       " 8,\n",
       " 16,\n",
       " 24,\n",
       " 32,\n",
       " 40,\n",
       " 48,\n",
       " 56,\n",
       " 64,\n",
       " 9,\n",
       " 18,\n",
       " 27,\n",
       " 36,\n",
       " 45,\n",
       " 54,\n",
       " 63,\n",
       " 72,\n",
       " 81,\n",
       " 10,\n",
       " 20,\n",
       " 30,\n",
       " 40,\n",
       " 50,\n",
       " 60,\n",
       " 70,\n",
       " 80,\n",
       " 90,\n",
       " 100]"
      ]
     },
     "execution_count": 25,
     "metadata": {},
     "output_type": "execute_result"
    }
   ],
   "source": [
    "[(i*j) for i in range(1,11) for j in range(1,i+1)]"
   ]
  },
  {
   "cell_type": "code",
   "execution_count": 26,
   "id": "d71b2d05",
   "metadata": {},
   "outputs": [
    {
     "name": "stdout",
     "output_type": "stream",
     "text": [
      "[1, 2, 3]\n",
      "1\n"
     ]
    }
   ],
   "source": [
    "data = [[1,2,3],\n",
    "       [4,5,6],\n",
    "       [7,8,9]]\n",
    "\n",
    "print(data[0])\n",
    "print(data[0][0])"
   ]
  },
  {
   "cell_type": "code",
   "execution_count": 27,
   "id": "3c58ba3d",
   "metadata": {},
   "outputs": [
    {
     "data": {
      "text/plain": [
       "3"
      ]
     },
     "execution_count": 27,
     "metadata": {},
     "output_type": "execute_result"
    }
   ],
   "source": [
    "data = [[1,2,3],\n",
    "       [4,5,6],\n",
    "       [7,8,9]]\n",
    "\n",
    "\n",
    "len(data)"
   ]
  },
  {
   "cell_type": "code",
   "execution_count": 28,
   "id": "06855ce9",
   "metadata": {},
   "outputs": [
    {
     "name": "stdout",
     "output_type": "stream",
     "text": [
      "[1, 2, 3] 0\n",
      "[4, 5, 6] 1\n",
      "[7, 8, 9] 2\n"
     ]
    }
   ],
   "source": [
    "data = [[1,2,3],\n",
    "       [4,5,6],\n",
    "       [7,8,9]]\n",
    "\n",
    "\n",
    "for row in range(len(data)):\n",
    "    print(data[row], row)"
   ]
  },
  {
   "cell_type": "code",
   "execution_count": 29,
   "id": "bce3c8f8",
   "metadata": {},
   "outputs": [
    {
     "name": "stdout",
     "output_type": "stream",
     "text": [
      "1 2 3 \n",
      "4 5 6 \n",
      "7 8 9 \n"
     ]
    }
   ],
   "source": [
    "data = [[1,2,3],\n",
    "       [4,5,6],\n",
    "       [7,8,9]]\n",
    "\n",
    "\n",
    "for row in range(len(data)):\n",
    "    for col in range(len(data[row])):\n",
    "        print(data[row][col], end=\" \")\n",
    "    print()"
   ]
  },
  {
   "cell_type": "code",
   "execution_count": 30,
   "id": "fac179da",
   "metadata": {},
   "outputs": [
    {
     "name": "stdout",
     "output_type": "stream",
     "text": [
      "1 2 3 \n",
      "4 5 6 \n",
      "7 8 9 \n"
     ]
    }
   ],
   "source": [
    "data = [[1,2,3],\n",
    "       [4,5,6],\n",
    "       [7,8,9]]\n",
    "\n",
    "for row in data:\n",
    "    for col in row:\n",
    "        print(col, end=\" \") # child\n",
    "    print()# parent"
   ]
  },
  {
   "cell_type": "code",
   "execution_count": 31,
   "id": "90838826",
   "metadata": {},
   "outputs": [
    {
     "data": {
      "text/plain": [
       "[1, 2, 3, 4, 5, 6, 7, 8, 9]"
      ]
     },
     "execution_count": 31,
     "metadata": {},
     "output_type": "execute_result"
    }
   ],
   "source": [
    "data = [[1,2,3],\n",
    "       [4,5,6],\n",
    "       [7,8,9]]\n",
    "\n",
    "[data[row][col]  for row in range(len(data)) for col in range(len(data[row])) ]"
   ]
  },
  {
   "cell_type": "code",
   "execution_count": null,
   "id": "592249ec",
   "metadata": {},
   "outputs": [],
   "source": [
    "10\n",
    "20\n",
    "\n",
    "\n",
    "1 x 1 = 1   2 x 1 = 2\n",
    "1 x 2 = 2   2 x 2 = 4"
   ]
  },
  {
   "cell_type": "markdown",
   "id": "91ca042f",
   "metadata": {},
   "source": [
    "# Tuple"
   ]
  },
  {
   "cell_type": "code",
   "execution_count": 33,
   "id": "5ef3771f",
   "metadata": {},
   "outputs": [
    {
     "name": "stdout",
     "output_type": "stream",
     "text": [
      "<class 'tuple'>\n",
      "('a', 'b', 'c', 1, 2, 3)\n"
     ]
    }
   ],
   "source": [
    "data = ('a','b','c', 1,2,3)\n",
    "print(type(data))\n",
    "print(data)"
   ]
  },
  {
   "cell_type": "code",
   "execution_count": 34,
   "id": "a2596e25",
   "metadata": {},
   "outputs": [
    {
     "name": "stdout",
     "output_type": "stream",
     "text": [
      "<class 'tuple'>\n",
      "('a', 'b', 'c', 1, 2, 3)\n"
     ]
    }
   ],
   "source": [
    "data = 'a','b','c', 1,2,3\n",
    "print(type(data))\n",
    "print(data)"
   ]
  },
  {
   "cell_type": "code",
   "execution_count": 36,
   "id": "cf03fab7",
   "metadata": {},
   "outputs": [
    {
     "name": "stdout",
     "output_type": "stream",
     "text": [
      "<class 'tuple'>\n",
      "a\n"
     ]
    }
   ],
   "source": [
    "data = 'a','b','c', 1,2,3\n",
    "print(type(data))\n",
    "print(data[0])"
   ]
  },
  {
   "cell_type": "code",
   "execution_count": 37,
   "id": "abc5d885",
   "metadata": {},
   "outputs": [
    {
     "name": "stdout",
     "output_type": "stream",
     "text": [
      "<class 'tuple'>\n",
      "('a', 'b', 'c')\n"
     ]
    }
   ],
   "source": [
    "data = 'a','b','c', 1,2,3\n",
    "print(type(data))\n",
    "print(data[0:3])"
   ]
  },
  {
   "cell_type": "code",
   "execution_count": 38,
   "id": "d098ec3c",
   "metadata": {},
   "outputs": [
    {
     "name": "stdout",
     "output_type": "stream",
     "text": [
      "<class 'tuple'>\n"
     ]
    },
    {
     "ename": "TypeError",
     "evalue": "'tuple' object does not support item assignment",
     "output_type": "error",
     "traceback": [
      "\u001b[1;31m---------------------------------------------------------------------------\u001b[0m",
      "\u001b[1;31mTypeError\u001b[0m                                 Traceback (most recent call last)",
      "\u001b[1;32m~\\AppData\\Local\\Temp\\ipykernel_7852\\3434522532.py\u001b[0m in \u001b[0;36m<module>\u001b[1;34m\u001b[0m\n\u001b[0;32m      1\u001b[0m \u001b[0mdata\u001b[0m \u001b[1;33m=\u001b[0m \u001b[1;33m(\u001b[0m\u001b[1;34m'a'\u001b[0m\u001b[1;33m,\u001b[0m\u001b[1;34m'b'\u001b[0m\u001b[1;33m,\u001b[0m\u001b[1;34m'c'\u001b[0m\u001b[1;33m,\u001b[0m \u001b[1;36m1\u001b[0m\u001b[1;33m,\u001b[0m\u001b[1;36m2\u001b[0m\u001b[1;33m,\u001b[0m\u001b[1;36m3\u001b[0m\u001b[1;33m)\u001b[0m\u001b[1;33m\u001b[0m\u001b[1;33m\u001b[0m\u001b[0m\n\u001b[0;32m      2\u001b[0m \u001b[0mprint\u001b[0m\u001b[1;33m(\u001b[0m\u001b[0mtype\u001b[0m\u001b[1;33m(\u001b[0m\u001b[0mdata\u001b[0m\u001b[1;33m)\u001b[0m\u001b[1;33m)\u001b[0m\u001b[1;33m\u001b[0m\u001b[1;33m\u001b[0m\u001b[0m\n\u001b[1;32m----> 3\u001b[1;33m \u001b[0mdata\u001b[0m\u001b[1;33m[\u001b[0m\u001b[1;36m0\u001b[0m\u001b[1;33m]\u001b[0m \u001b[1;33m=\u001b[0m \u001b[1;34m\"A\"\u001b[0m\u001b[1;33m\u001b[0m\u001b[1;33m\u001b[0m\u001b[0m\n\u001b[0m",
      "\u001b[1;31mTypeError\u001b[0m: 'tuple' object does not support item assignment"
     ]
    }
   ],
   "source": [
    "data = ('a','b','c', 1,2,3)\n",
    "print(type(data))\n",
    "data[0] = \"A\""
   ]
  },
  {
   "cell_type": "code",
   "execution_count": 39,
   "id": "054a97ad",
   "metadata": {},
   "outputs": [
    {
     "name": "stdout",
     "output_type": "stream",
     "text": [
      "<class 'tuple'>\n"
     ]
    },
    {
     "data": {
      "text/plain": [
       "('A', 'b', 'c', 1, 2, 3)"
      ]
     },
     "execution_count": 39,
     "metadata": {},
     "output_type": "execute_result"
    }
   ],
   "source": [
    "data = ('A','b','c', 1,2,3)\n",
    "print(type(data))\n",
    "data"
   ]
  },
  {
   "cell_type": "markdown",
   "id": "46312c67",
   "metadata": {},
   "source": [
    "# tuple not fully imutable"
   ]
  },
  {
   "cell_type": "code",
   "execution_count": 40,
   "id": "bcbc6945",
   "metadata": {},
   "outputs": [
    {
     "data": {
      "text/plain": [
       "('a', 'b', 'c', [100, 2, 8])"
      ]
     },
     "execution_count": 40,
     "metadata": {},
     "output_type": "execute_result"
    }
   ],
   "source": [
    "a = ('a','b','c', [1,2])\n",
    "a[3].append(8)\n",
    "a[3][0] = 100\n",
    "a"
   ]
  },
  {
   "cell_type": "code",
   "execution_count": 41,
   "id": "39fcf18d",
   "metadata": {},
   "outputs": [
    {
     "data": {
      "text/plain": [
       "['__add__',\n",
       " '__class__',\n",
       " '__class_getitem__',\n",
       " '__contains__',\n",
       " '__delattr__',\n",
       " '__dir__',\n",
       " '__doc__',\n",
       " '__eq__',\n",
       " '__format__',\n",
       " '__ge__',\n",
       " '__getattribute__',\n",
       " '__getitem__',\n",
       " '__getnewargs__',\n",
       " '__gt__',\n",
       " '__hash__',\n",
       " '__init__',\n",
       " '__init_subclass__',\n",
       " '__iter__',\n",
       " '__le__',\n",
       " '__len__',\n",
       " '__lt__',\n",
       " '__mul__',\n",
       " '__ne__',\n",
       " '__new__',\n",
       " '__reduce__',\n",
       " '__reduce_ex__',\n",
       " '__repr__',\n",
       " '__rmul__',\n",
       " '__setattr__',\n",
       " '__sizeof__',\n",
       " '__str__',\n",
       " '__subclasshook__',\n",
       " 'count',\n",
       " 'index']"
      ]
     },
     "execution_count": 41,
     "metadata": {},
     "output_type": "execute_result"
    }
   ],
   "source": [
    "dir(tuple)"
   ]
  },
  {
   "cell_type": "code",
   "execution_count": 42,
   "id": "aa9e00a2",
   "metadata": {},
   "outputs": [
    {
     "data": {
      "text/plain": [
       "['__add__',\n",
       " '__class__',\n",
       " '__class_getitem__',\n",
       " '__contains__',\n",
       " '__delattr__',\n",
       " '__delitem__',\n",
       " '__dir__',\n",
       " '__doc__',\n",
       " '__eq__',\n",
       " '__format__',\n",
       " '__ge__',\n",
       " '__getattribute__',\n",
       " '__getitem__',\n",
       " '__gt__',\n",
       " '__hash__',\n",
       " '__iadd__',\n",
       " '__imul__',\n",
       " '__init__',\n",
       " '__init_subclass__',\n",
       " '__iter__',\n",
       " '__le__',\n",
       " '__len__',\n",
       " '__lt__',\n",
       " '__mul__',\n",
       " '__ne__',\n",
       " '__new__',\n",
       " '__reduce__',\n",
       " '__reduce_ex__',\n",
       " '__repr__',\n",
       " '__reversed__',\n",
       " '__rmul__',\n",
       " '__setattr__',\n",
       " '__setitem__',\n",
       " '__sizeof__',\n",
       " '__str__',\n",
       " '__subclasshook__',\n",
       " 'append',\n",
       " 'clear',\n",
       " 'copy',\n",
       " 'count',\n",
       " 'extend',\n",
       " 'index',\n",
       " 'insert',\n",
       " 'pop',\n",
       " 'remove',\n",
       " 'reverse',\n",
       " 'sort']"
      ]
     },
     "execution_count": 42,
     "metadata": {},
     "output_type": "execute_result"
    }
   ],
   "source": [
    "dir(list)"
   ]
  },
  {
   "cell_type": "code",
   "execution_count": 43,
   "id": "5bc3c817",
   "metadata": {},
   "outputs": [
    {
     "data": {
      "text/plain": [
       "(1, 2, 3, 'a', 'b', 'c')"
      ]
     },
     "execution_count": 43,
     "metadata": {},
     "output_type": "execute_result"
    }
   ],
   "source": [
    "(1,2,3) + ('a','b','c')"
   ]
  },
  {
   "cell_type": "code",
   "execution_count": 44,
   "id": "c85a6d30",
   "metadata": {},
   "outputs": [
    {
     "data": {
      "text/plain": [
       "(1, 2, 3, 1, 2, 3, 1, 2, 3, 1, 2, 3)"
      ]
     },
     "execution_count": 44,
     "metadata": {},
     "output_type": "execute_result"
    }
   ],
   "source": [
    "(1,2,3) * 4"
   ]
  },
  {
   "cell_type": "markdown",
   "id": "8b05da18",
   "metadata": {},
   "source": [
    "# Dictionary"
   ]
  },
  {
   "cell_type": "markdown",
   "id": "990fa131",
   "metadata": {},
   "source": [
    "* start { and }\n",
    "* item\n",
    "    * key:value\n",
    "        * key = hashable type = int, str, tuple / replacement of index\n",
    "        * value = any type\n",
    "        * : = seprator between key value\n",
    "    * , between items"
   ]
  },
  {
   "cell_type": "code",
   "execution_count": 45,
   "id": "195648c5",
   "metadata": {},
   "outputs": [
    {
     "data": {
      "text/plain": [
       "['asif', 'abid', '2222', 111, 'aaaaaaa']"
      ]
     },
     "execution_count": 45,
     "metadata": {},
     "output_type": "execute_result"
    }
   ],
   "source": [
    "#      0=name        1=fathername      2=cnic        3=roll 4=signature\n",
    "['Muhammad Qasim',\"Muhammad Aslam\",'42201-7894567-3',11,'abc']\n",
    "['Muhammad Qasim',\"Muhammad Aslam\",'42201-7894567-3',11,'abc']\n",
    "['asif','abid','2222',111,'aaaaaaa']"
   ]
  },
  {
   "cell_type": "code",
   "execution_count": 46,
   "id": "a743a5d4",
   "metadata": {},
   "outputs": [
    {
     "data": {
      "text/plain": [
       "{'name': 'Muhammad Hassan',\n",
       " 'father_name': 'Abdul Razzak',\n",
       " 'cnic': '42101-7787748-7',\n",
       " 'roll_no': 118304,\n",
       " 'signature': 'abc'}"
      ]
     },
     "execution_count": 46,
     "metadata": {},
     "output_type": "execute_result"
    }
   ],
   "source": [
    "data = {\n",
    "    \"name\":\"Muhammad Hassan\",\n",
    "    \"father_name\": \"Abdul Razzak\",\n",
    "    'cnic': \"42101-7787748-7\",\n",
    "    'roll_no': 118304,\n",
    "    'signature' : 'abc'\n",
    "}\n",
    "\n",
    "data"
   ]
  },
  {
   "cell_type": "code",
   "execution_count": 48,
   "id": "80b16189",
   "metadata": {},
   "outputs": [
    {
     "data": {
      "text/plain": [
       "118304"
      ]
     },
     "execution_count": 48,
     "metadata": {},
     "output_type": "execute_result"
    }
   ],
   "source": [
    "data = {\n",
    "    \"name\":\"Muhammad Hassan\",\n",
    "    \"father_name\": \"Abdul Razzak\",\n",
    "    'cnic': \"42101-7787748-7\",\n",
    "    'roll_no': 118304,\n",
    "    'signature' : 'abc'\n",
    "}\n",
    "\n",
    "data[\"roll_no\"]"
   ]
  },
  {
   "cell_type": "code",
   "execution_count": 50,
   "id": "0af632ae",
   "metadata": {},
   "outputs": [
    {
     "data": {
      "text/plain": [
       "'Islam'"
      ]
     },
     "execution_count": 50,
     "metadata": {},
     "output_type": "execute_result"
    }
   ],
   "source": [
    "data = {\n",
    "    \"name\":\"Muhammad Hassan\",\n",
    "    \"father_name\": \"Abdul Razzak\",\n",
    "    'cnic': \"42101-7787748-7\",\n",
    "    'roll_no': 118304,\n",
    "    'signature' : 'abc',\n",
    "    100 : 'Islam'\n",
    "}\n",
    "\n",
    "data[100]"
   ]
  },
  {
   "cell_type": "code",
   "execution_count": 51,
   "id": "ab64fa53",
   "metadata": {},
   "outputs": [
    {
     "data": {
      "text/plain": [
       "'Islam'"
      ]
     },
     "execution_count": 51,
     "metadata": {},
     "output_type": "execute_result"
    }
   ],
   "source": [
    "data = {\n",
    "    \"name\":\"Muhammad Hassan\",\n",
    "    \"father_name\": \"Abdul Razzak\",\n",
    "    'cnic': \"42101-7787748-7\",\n",
    "    'roll_no': 118304,\n",
    "    'signature' : 'abc',\n",
    "    'aaa' : 'Islam'\n",
    "}\n",
    "\n",
    "data['aaa']"
   ]
  },
  {
   "cell_type": "code",
   "execution_count": 55,
   "id": "fd6c7009",
   "metadata": {},
   "outputs": [
    {
     "data": {
      "text/plain": [
       "{'name': 'Muhammad Hassan',\n",
       " 'father_name': 'Abdul Razzak',\n",
       " 'cnic': '42101-7787748-7',\n",
       " 'roll_no': 118304,\n",
       " 'signature': 'abc',\n",
       " 'skills': 'Python'}"
      ]
     },
     "execution_count": 55,
     "metadata": {},
     "output_type": "execute_result"
    }
   ],
   "source": [
    "data = {\n",
    "    \"name\":\"Muhammad Hassan\",\n",
    "    \"father_name\": \"Abdul Razzak\",\n",
    "    'cnic': \"42101-7787748-7\",\n",
    "    'roll_no': 118304,\n",
    "    'signature' : 'abc',\n",
    "    'skills' : \"Python\"\n",
    "}\n",
    "\n",
    "data"
   ]
  },
  {
   "cell_type": "code",
   "execution_count": 56,
   "id": "470d96fa",
   "metadata": {},
   "outputs": [
    {
     "data": {
      "text/plain": [
       "['__class__',\n",
       " '__class_getitem__',\n",
       " '__contains__',\n",
       " '__delattr__',\n",
       " '__delitem__',\n",
       " '__dir__',\n",
       " '__doc__',\n",
       " '__eq__',\n",
       " '__format__',\n",
       " '__ge__',\n",
       " '__getattribute__',\n",
       " '__getitem__',\n",
       " '__gt__',\n",
       " '__hash__',\n",
       " '__init__',\n",
       " '__init_subclass__',\n",
       " '__ior__',\n",
       " '__iter__',\n",
       " '__le__',\n",
       " '__len__',\n",
       " '__lt__',\n",
       " '__ne__',\n",
       " '__new__',\n",
       " '__or__',\n",
       " '__reduce__',\n",
       " '__reduce_ex__',\n",
       " '__repr__',\n",
       " '__reversed__',\n",
       " '__ror__',\n",
       " '__setattr__',\n",
       " '__setitem__',\n",
       " '__sizeof__',\n",
       " '__str__',\n",
       " '__subclasshook__',\n",
       " 'clear',\n",
       " 'copy',\n",
       " 'fromkeys',\n",
       " 'get',\n",
       " 'items',\n",
       " 'keys',\n",
       " 'pop',\n",
       " 'popitem',\n",
       " 'setdefault',\n",
       " 'update',\n",
       " 'values']"
      ]
     },
     "execution_count": 56,
     "metadata": {},
     "output_type": "execute_result"
    }
   ],
   "source": [
    "dir(dict)"
   ]
  },
  {
   "cell_type": "markdown",
   "id": "74d44725",
   "metadata": {},
   "source": [
    "# Create new dictionary"
   ]
  },
  {
   "cell_type": "code",
   "execution_count": 57,
   "id": "422aef8d",
   "metadata": {},
   "outputs": [
    {
     "ename": "KeyError",
     "evalue": "'name'",
     "output_type": "error",
     "traceback": [
      "\u001b[1;31m---------------------------------------------------------------------------\u001b[0m",
      "\u001b[1;31mKeyError\u001b[0m                                  Traceback (most recent call last)",
      "\u001b[1;32m~\\AppData\\Local\\Temp\\ipykernel_7852\\993777187.py\u001b[0m in \u001b[0;36m<module>\u001b[1;34m\u001b[0m\n\u001b[0;32m      1\u001b[0m \u001b[0mdata\u001b[0m \u001b[1;33m=\u001b[0m \u001b[1;33m{\u001b[0m\u001b[1;33m}\u001b[0m \u001b[1;31m#empty dictionary\u001b[0m\u001b[1;33m\u001b[0m\u001b[1;33m\u001b[0m\u001b[0m\n\u001b[0;32m      2\u001b[0m \u001b[1;33m\u001b[0m\u001b[0m\n\u001b[1;32m----> 3\u001b[1;33m \u001b[0mdata\u001b[0m\u001b[1;33m[\u001b[0m\u001b[1;34m'name'\u001b[0m\u001b[1;33m]\u001b[0m\u001b[1;33m\u001b[0m\u001b[1;33m\u001b[0m\u001b[0m\n\u001b[0m\u001b[0;32m      4\u001b[0m \u001b[1;33m\u001b[0m\u001b[0m\n\u001b[0;32m      5\u001b[0m \u001b[0mprint\u001b[0m\u001b[1;33m(\u001b[0m\u001b[0mdata\u001b[0m\u001b[1;33m,\u001b[0m \u001b[0mtype\u001b[0m\u001b[1;33m(\u001b[0m\u001b[0mdata\u001b[0m\u001b[1;33m)\u001b[0m\u001b[1;33m)\u001b[0m\u001b[1;33m\u001b[0m\u001b[1;33m\u001b[0m\u001b[0m\n",
      "\u001b[1;31mKeyError\u001b[0m: 'name'"
     ]
    }
   ],
   "source": [
    "data = {} #empty dictionary\n",
    "\n",
    "data['name']\n",
    "\n",
    "print(data, type(data))"
   ]
  },
  {
   "cell_type": "code",
   "execution_count": 60,
   "id": "014454a9",
   "metadata": {},
   "outputs": [
    {
     "name": "stdout",
     "output_type": "stream",
     "text": [
      "{'name': 'Muhammad Hassan', 'father_name': 'Abdul Razzak'} <class 'dict'>\n"
     ]
    }
   ],
   "source": [
    "data = {} #empty dictionary\n",
    "\n",
    "data['name'] = \"Muhammad Hassan\"\n",
    "data['father_name'] = \"Abdul Razzak\"\n",
    "\n",
    "print(data, type(data))"
   ]
  },
  {
   "cell_type": "code",
   "execution_count": 61,
   "id": "5a4bbb4d",
   "metadata": {},
   "outputs": [
    {
     "ename": "KeyError",
     "evalue": "'roll_name'",
     "output_type": "error",
     "traceback": [
      "\u001b[1;31m---------------------------------------------------------------------------\u001b[0m",
      "\u001b[1;31mKeyError\u001b[0m                                  Traceback (most recent call last)",
      "\u001b[1;32m~\\AppData\\Local\\Temp\\ipykernel_7852\\2480855051.py\u001b[0m in \u001b[0;36m<module>\u001b[1;34m\u001b[0m\n\u001b[0;32m      2\u001b[0m \u001b[0mdata\u001b[0m\u001b[1;33m[\u001b[0m\u001b[1;34m'father_name'\u001b[0m\u001b[1;33m]\u001b[0m \u001b[1;33m=\u001b[0m \u001b[1;34m\"Abdul Razzak\"\u001b[0m\u001b[1;33m\u001b[0m\u001b[1;33m\u001b[0m\u001b[0m\n\u001b[0;32m      3\u001b[0m \u001b[1;33m\u001b[0m\u001b[0m\n\u001b[1;32m----> 4\u001b[1;33m \u001b[0mprint\u001b[0m\u001b[1;33m(\u001b[0m\u001b[0mdata\u001b[0m\u001b[1;33m[\u001b[0m\u001b[1;34m'roll_name'\u001b[0m\u001b[1;33m]\u001b[0m\u001b[1;33m)\u001b[0m\u001b[1;33m\u001b[0m\u001b[1;33m\u001b[0m\u001b[0m\n\u001b[0m",
      "\u001b[1;31mKeyError\u001b[0m: 'roll_name'"
     ]
    }
   ],
   "source": [
    "data['name'] = \"Muhammad Hassan\"\n",
    "data['father_name'] = \"Abdul Razzak\"\n",
    "\n",
    "print(data['roll_name'])"
   ]
  },
  {
   "cell_type": "code",
   "execution_count": 62,
   "id": "5f58a77b",
   "metadata": {},
   "outputs": [
    {
     "name": "stdout",
     "output_type": "stream",
     "text": [
      "line1\n",
      "line2\n"
     ]
    },
    {
     "ename": "KeyError",
     "evalue": "'roll_number'",
     "output_type": "error",
     "traceback": [
      "\u001b[1;31m---------------------------------------------------------------------------\u001b[0m",
      "\u001b[1;31mKeyError\u001b[0m                                  Traceback (most recent call last)",
      "\u001b[1;32m~\\AppData\\Local\\Temp\\ipykernel_7852\\1375732323.py\u001b[0m in \u001b[0;36m<module>\u001b[1;34m\u001b[0m\n\u001b[0;32m      2\u001b[0m \u001b[0mprint\u001b[0m\u001b[1;33m(\u001b[0m\u001b[1;34m\"line2\"\u001b[0m\u001b[1;33m)\u001b[0m\u001b[1;33m\u001b[0m\u001b[1;33m\u001b[0m\u001b[0m\n\u001b[0;32m      3\u001b[0m \u001b[1;33m\u001b[0m\u001b[0m\n\u001b[1;32m----> 4\u001b[1;33m \u001b[0mdata\u001b[0m\u001b[1;33m[\u001b[0m\u001b[1;34m'roll_number'\u001b[0m\u001b[1;33m]\u001b[0m\u001b[1;33m\u001b[0m\u001b[1;33m\u001b[0m\u001b[0m\n\u001b[0m\u001b[0;32m      5\u001b[0m \u001b[1;33m\u001b[0m\u001b[0m\n\u001b[0;32m      6\u001b[0m \u001b[0mprint\u001b[0m\u001b[1;33m(\u001b[0m\u001b[1;34m'line3'\u001b[0m\u001b[1;33m)\u001b[0m\u001b[1;33m\u001b[0m\u001b[1;33m\u001b[0m\u001b[0m\n",
      "\u001b[1;31mKeyError\u001b[0m: 'roll_number'"
     ]
    }
   ],
   "source": [
    "print(\"line1\")\n",
    "print(\"line2\")\n",
    "\n",
    "data['roll_number']\n",
    "\n",
    "print('line3')\n",
    "print('line4')"
   ]
  },
  {
   "cell_type": "code",
   "execution_count": 63,
   "id": "94fc4c72",
   "metadata": {},
   "outputs": [
    {
     "name": "stdout",
     "output_type": "stream",
     "text": [
      "Muhammad Hassan\n",
      "None\n",
      "not available\n"
     ]
    }
   ],
   "source": [
    "data['name'] = \"Muhammad Hassan\"\n",
    "data['father_name'] = \"Abdul Razzak\"\n",
    "\n",
    "\n",
    "print(data.get('name'))\n",
    "print(data.get(\"roll_number\"))\n",
    "print(data.get('roll_number','not available'))"
   ]
  },
  {
   "cell_type": "code",
   "execution_count": 64,
   "id": "82a52b13",
   "metadata": {},
   "outputs": [
    {
     "name": "stdout",
     "output_type": "stream",
     "text": [
      "line1\n",
      "line2\n",
      "Not available\n",
      "line3\n",
      "line4\n"
     ]
    }
   ],
   "source": [
    "print(\"line1\")\n",
    "print(\"line2\")\n",
    "\n",
    "print(data.get('roll_number',\"Not available\"))\n",
    "\n",
    "print('line3')\n",
    "print('line4')"
   ]
  },
  {
   "cell_type": "code",
   "execution_count": 65,
   "id": "df395e38",
   "metadata": {},
   "outputs": [
    {
     "data": {
      "text/plain": [
       "{'name': None, 'id': None, 'father_name': None, 'cnic': None}"
      ]
     },
     "execution_count": 65,
     "metadata": {},
     "output_type": "execute_result"
    }
   ],
   "source": [
    "dict.fromkeys(['name','id','father_name','cnic'])"
   ]
  },
  {
   "cell_type": "code",
   "execution_count": 66,
   "id": "0b041d26",
   "metadata": {},
   "outputs": [
    {
     "data": {
      "text/plain": [
       "{'name': 'Muhammad Hassan', 'father_name': 'Abdul Razzak'}"
      ]
     },
     "execution_count": 66,
     "metadata": {},
     "output_type": "execute_result"
    }
   ],
   "source": [
    "data"
   ]
  },
  {
   "cell_type": "code",
   "execution_count": 67,
   "id": "64abb74e",
   "metadata": {},
   "outputs": [
    {
     "data": {
      "text/plain": [
       "dict_keys(['name', 'father_name', 'cnic', 'roll_no', 'signature'])"
      ]
     },
     "execution_count": 67,
     "metadata": {},
     "output_type": "execute_result"
    }
   ],
   "source": [
    "data = {\n",
    "    \"name\":\"Muhammad Hassan\",\n",
    "    \"father_name\": \"Abdul Razzak\",\n",
    "    'cnic': \"42101-7787748-7\",\n",
    "    'roll_no': 118304,\n",
    "    'signature' : 'abc'\n",
    "    \n",
    "}\n",
    "\n",
    "data.keys()"
   ]
  },
  {
   "cell_type": "code",
   "execution_count": 68,
   "id": "335beed1",
   "metadata": {},
   "outputs": [
    {
     "data": {
      "text/plain": [
       "dict_values(['Muhammad Hassan', 'Abdul Razzak', '42101-7787748-7', 118304, 'abc'])"
      ]
     },
     "execution_count": 68,
     "metadata": {},
     "output_type": "execute_result"
    }
   ],
   "source": [
    "data.values()"
   ]
  },
  {
   "cell_type": "code",
   "execution_count": 69,
   "id": "2c8e069c",
   "metadata": {},
   "outputs": [
    {
     "data": {
      "text/plain": [
       "dict_items([('name', 'Muhammad Hassan'), ('father_name', 'Abdul Razzak'), ('cnic', '42101-7787748-7'), ('roll_no', 118304), ('signature', 'abc')])"
      ]
     },
     "execution_count": 69,
     "metadata": {},
     "output_type": "execute_result"
    }
   ],
   "source": [
    "data.items()"
   ]
  },
  {
   "cell_type": "code",
   "execution_count": 70,
   "id": "5b2a3928",
   "metadata": {},
   "outputs": [
    {
     "name": "stdout",
     "output_type": "stream",
     "text": [
      "aa\n",
      "bb\n"
     ]
    }
   ],
   "source": [
    "a,b = ('aa','bb') # unpack/unzip\n",
    "\n",
    "print(a)\n",
    "print(b)"
   ]
  },
  {
   "cell_type": "code",
   "execution_count": 71,
   "id": "0e28ac07",
   "metadata": {},
   "outputs": [
    {
     "name": "stdout",
     "output_type": "stream",
     "text": [
      "name\n",
      "father_name\n",
      "cnic\n",
      "roll_no\n",
      "signature\n"
     ]
    }
   ],
   "source": [
    "data = {\n",
    "    \"name\":\"Muhammad Hassan\",\n",
    "    \"father_name\": \"Abdul Razzak\",\n",
    "    'cnic': \"42101-7787748-7\",\n",
    "    'roll_no': 118304,\n",
    "    'signature' : 'abc'\n",
    "    \n",
    "}\n",
    "\n",
    "for k in data.keys():\n",
    "    print(k)"
   ]
  },
  {
   "cell_type": "code",
   "execution_count": 72,
   "id": "6c2d037c",
   "metadata": {},
   "outputs": [
    {
     "name": "stdout",
     "output_type": "stream",
     "text": [
      "name --> Muhammad Hassan\n",
      "father_name --> Abdul Razzak\n",
      "cnic --> 42101-7787748-7\n",
      "roll_no --> 118304\n",
      "signature --> abc\n"
     ]
    }
   ],
   "source": [
    "data = {\n",
    "    \"name\":\"Muhammad Hassan\",\n",
    "    \"father_name\": \"Abdul Razzak\",\n",
    "    'cnic': \"42101-7787748-7\",\n",
    "    'roll_no': 118304,\n",
    "    'signature' : 'abc'\n",
    "    \n",
    "}\n",
    "\n",
    "for k in data.keys():\n",
    "    print(k, \"-->\", data[k])"
   ]
  },
  {
   "cell_type": "code",
   "execution_count": 73,
   "id": "6bc32b23",
   "metadata": {},
   "outputs": [
    {
     "name": "stdout",
     "output_type": "stream",
     "text": [
      "name Muhammad Hassan\n",
      "father_name Abdul Razzak\n",
      "cnic 42101-7787748-7\n",
      "roll_no 118304\n",
      "signature abc\n"
     ]
    }
   ],
   "source": [
    "for k,v in data.items():\n",
    "    print(k, v)"
   ]
  },
  {
   "cell_type": "code",
   "execution_count": 74,
   "id": "fd91cc95",
   "metadata": {},
   "outputs": [
    {
     "data": {
      "text/plain": [
       "{'a': 3, 'b': 2, 'c': 1}"
      ]
     },
     "execution_count": 74,
     "metadata": {},
     "output_type": "execute_result"
    }
   ],
   "source": [
    "data = {\n",
    "    \"a\":3,\n",
    "    \"b\":2,\n",
    "    \"c\":1\n",
    "}\n",
    "\n",
    "data"
   ]
  },
  {
   "cell_type": "code",
   "execution_count": 75,
   "id": "d6b29645",
   "metadata": {},
   "outputs": [
    {
     "name": "stdout",
     "output_type": "stream",
     "text": [
      "a\n",
      "b\n",
      "c\n"
     ]
    }
   ],
   "source": [
    "for d in data:\n",
    "    print(d)"
   ]
  },
  {
   "cell_type": "code",
   "execution_count": null,
   "id": "84626542",
   "metadata": {},
   "outputs": [],
   "source": []
  }
 ],
 "metadata": {
  "kernelspec": {
   "display_name": "Python 3 (ipykernel)",
   "language": "python",
   "name": "python3"
  },
  "language_info": {
   "codemirror_mode": {
    "name": "ipython",
    "version": 3
   },
   "file_extension": ".py",
   "mimetype": "text/x-python",
   "name": "python",
   "nbconvert_exporter": "python",
   "pygments_lexer": "ipython3",
   "version": "3.9.13"
  }
 },
 "nbformat": 4,
 "nbformat_minor": 5
}
