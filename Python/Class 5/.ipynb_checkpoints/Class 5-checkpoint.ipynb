{
 "cells": [
  {
   "cell_type": "markdown",
   "id": "23c41656",
   "metadata": {},
   "source": [
    "# List Data type\n",
    "* start with [ and end with ]\n",
    "* value/item store any data type\n",
    "* seprator between two items ,\n",
    "* indexing\n",
    "     * positive indexing --> left to right always start Zero\n",
    "     * negative/reverse indexing <-- right to left always start -1\n",
    "* extract value from list with index value variable_name[index_num]"
   ]
  },
  {
   "cell_type": "markdown",
   "id": "c3e8ade3",
   "metadata": {},
   "source": [
    "# Slicing\n",
    "* variable[start:end:step] all parameters are numbers\n",
    "    * start include\n",
    "    * end exclude (end-1)\n",
    "    * step sequance (--> 1)"
   ]
  },
  {
   "cell_type": "code",
   "execution_count": 1,
   "id": "9272f620",
   "metadata": {},
   "outputs": [],
   "source": [
    "stdid1 = 1\n",
    "stdname1 = \"Ali\"\n",
    "stdfname1 = \"Hamza\"\n",
    "\n",
    "stdid2 = 2\n",
    "stdname2 = \"Kashif\"\n",
    "stdfname2 = \"Asif\""
   ]
  },
  {
   "cell_type": "code",
   "execution_count": 2,
   "id": "c67c3222",
   "metadata": {},
   "outputs": [
    {
     "name": "stdout",
     "output_type": "stream",
     "text": [
      "['Asif', 'Kashif', 'Hamza', 1000, 2000, 3000, True]\n"
     ]
    }
   ],
   "source": [
    "names = ['Asif',\"Kashif\",'Hamza',1000,2000,3000,True]\n",
    "print(names)"
   ]
  },
  {
   "cell_type": "code",
   "execution_count": 3,
   "id": "786b04f6",
   "metadata": {},
   "outputs": [
    {
     "name": "stdout",
     "output_type": "stream",
     "text": [
      "['Asif', 'Kashif', 'Hamza', 1000, 2000, 3000, True]\n"
     ]
    }
   ],
   "source": [
    "# --->      0      1        2     3     4   5    6\n",
    "names = ['Asif',\"Kashif\",'Hamza',1000,2000,3000,True]\n",
    "# <---     -7     -6       -5     -4   -3   -2   -1\n",
    "print(names)"
   ]
  },
  {
   "cell_type": "code",
   "execution_count": 5,
   "id": "750c0ada",
   "metadata": {},
   "outputs": [
    {
     "name": "stdout",
     "output_type": "stream",
     "text": [
      "Hamza\n",
      "Kashif\n",
      "2000 2000\n"
     ]
    }
   ],
   "source": [
    "# --->      0      1        2     3     4   5    6\n",
    "names = ['Asif',\"Kashif\",'Hamza',1000,2000,3000,True]\n",
    "# <---     -7     -6       -5     -4   -3   -2   -1\n",
    "\n",
    "print(names[2])\n",
    "print(names[-6])\n",
    "print(names[4], names[-3])"
   ]
  },
  {
   "cell_type": "code",
   "execution_count": 6,
   "id": "cff406e3",
   "metadata": {},
   "outputs": [
    {
     "name": "stdout",
     "output_type": "stream",
     "text": [
      "3000\n",
      "3000\n",
      "True 1000\n"
     ]
    }
   ],
   "source": [
    "names = ['Asif',\"Kashif\",'Hamza',1000,2000,3000,True]\n",
    "print(names[-2])\n",
    "print(names[5])\n",
    "\n",
    "print(names[6], names[-4])"
   ]
  },
  {
   "cell_type": "markdown",
   "id": "c3bb7e22",
   "metadata": {},
   "source": [
    "# old programming code style for printing all array values"
   ]
  },
  {
   "cell_type": "code",
   "execution_count": 7,
   "id": "edbb36a4",
   "metadata": {},
   "outputs": [
    {
     "name": "stdout",
     "output_type": "stream",
     "text": [
      "Asif\n",
      "Kashif\n",
      "Hamza\n",
      "1000\n",
      "2000\n",
      "3000\n",
      "True\n"
     ]
    }
   ],
   "source": [
    "names = ['Asif',\"Kashif\",'Hamza',1000,2000,3000,True]\n",
    "\n",
    "counter = 0\n",
    "while counter < len(names):\n",
    "    print(names[counter])\n",
    "    counter += 1"
   ]
  },
  {
   "cell_type": "code",
   "execution_count": 9,
   "id": "168d5130",
   "metadata": {},
   "outputs": [
    {
     "name": "stdout",
     "output_type": "stream",
     "text": [
      "Kashif\n",
      "Hamza\n",
      "1000\n",
      "2000\n",
      "3000\n"
     ]
    }
   ],
   "source": [
    "names = ['Asif',\"Kashif\",'Hamza',1000,2000,3000,True]\n",
    "\n",
    "counter = 1\n",
    "while counter < 6:\n",
    "    print(names[counter])\n",
    "    counter += 1"
   ]
  },
  {
   "cell_type": "markdown",
   "id": "45454409",
   "metadata": {},
   "source": [
    "# Now print with pythonic style"
   ]
  },
  {
   "cell_type": "code",
   "execution_count": 10,
   "id": "2f7cb45f",
   "metadata": {},
   "outputs": [
    {
     "name": "stdout",
     "output_type": "stream",
     "text": [
      "Asif\n",
      "Kashif\n",
      "Hamza\n",
      "1000\n",
      "2000\n",
      "3000\n",
      "True\n"
     ]
    }
   ],
   "source": [
    "names = ['Asif',\"Kashif\",'Hamza',1000,2000,3000,True]\n",
    "\n",
    "for name in names:\n",
    "    print(name)"
   ]
  },
  {
   "cell_type": "markdown",
   "id": "6cc4fa52",
   "metadata": {},
   "source": [
    "# Slicing"
   ]
  },
  {
   "cell_type": "code",
   "execution_count": 11,
   "id": "ac85f519",
   "metadata": {},
   "outputs": [
    {
     "name": "stdout",
     "output_type": "stream",
     "text": [
      "['Kashif', 'Hamza', 1000, 2000, 3000]\n",
      "['Kashif', 'Hamza', 1000, 2000, 3000]\n"
     ]
    }
   ],
   "source": [
    "# --->      0      1        2     3     4   5    6\n",
    "names = ['Asif',\"Kashif\",'Hamza',1000,2000,3000,True]\n",
    "# <---     -7     -6       -5     -4   -3   -2   -1\n",
    "\n",
    "\n",
    "print(names[1:6])\n",
    "print(names[1:6:1])"
   ]
  },
  {
   "cell_type": "code",
   "execution_count": 13,
   "id": "941fd351",
   "metadata": {},
   "outputs": [
    {
     "name": "stdout",
     "output_type": "stream",
     "text": [
      "['Asif', 'Kashif', 'Hamza', 1000, 2000, 3000, True]\n",
      "['Asif', 'Hamza', 2000, True]\n",
      "['Asif', 2000]\n"
     ]
    }
   ],
   "source": [
    "# --->      0      1        2     3     4   5    6\n",
    "names = ['Asif',\"Kashif\",'Hamza',1000,2000,3000,True]\n",
    "# <---     -7     -6       -5     -4   -3   -2   -1\n",
    "\n",
    "print(names[::1])\n",
    "print(names[::2])\n",
    "print(names[::4])"
   ]
  },
  {
   "cell_type": "code",
   "execution_count": 14,
   "id": "c2b3606b",
   "metadata": {},
   "outputs": [
    {
     "name": "stdout",
     "output_type": "stream",
     "text": [
      "[True, 3000, 2000, 1000, 'Hamza', 'Kashif', 'Asif']\n"
     ]
    }
   ],
   "source": [
    "# --->      0      1        2     3     4   5    6\n",
    "names = ['Asif',\"Kashif\",'Hamza',1000,2000,3000,True]\n",
    "# <---     -7     -6       -5     -4   -3   -2   -1\n",
    "\n",
    "print(names[::-1])"
   ]
  },
  {
   "cell_type": "code",
   "execution_count": 15,
   "id": "5db4c628",
   "metadata": {},
   "outputs": [
    {
     "name": "stdout",
     "output_type": "stream",
     "text": [
      "[]\n",
      "[2000, 1000, 'Hamza', 'Kashif']\n",
      "['Asif', 'Kashif', 'Hamza', 1000]\n",
      "[3000, 2000, 1000, 'Hamza', 'Kashif']\n",
      "[3000, 2000, 1000, 'Hamza', 'Kashif']\n"
     ]
    }
   ],
   "source": [
    "# --->      0      1        2     3     4   5    6\n",
    "names = ['Asif',\"Kashif\",'Hamza',1000,2000,3000,True]\n",
    "# <---     -7     -6       -5     -4   -3   -2   -1\n",
    "\n",
    "print(names[4:-7])\n",
    "print(names[4:-7:-1])\n",
    "print(names[-7:4])\n",
    "\n",
    "print(names[5:-7:-1])\n",
    "print(names[5:0:-1])"
   ]
  },
  {
   "cell_type": "code",
   "execution_count": 16,
   "id": "b899016a",
   "metadata": {},
   "outputs": [
    {
     "name": "stdout",
     "output_type": "stream",
     "text": [
      "[3000, True, 'pakistan']\n",
      "['Asif', 'Kashif', 'Hamza']\n",
      "['Asif', 'Kashif', 'Hamza']\n",
      "['Asif', 'Kashif', 'Hamza']\n",
      "['Asif', 'Kashif', 'Hamza']\n"
     ]
    }
   ],
   "source": [
    "# --->      0      1        2     3     4   5    6\n",
    "names = ['Asif',\"Kashif\",'Hamza',1000,2000,3000,True,'pakistan']\n",
    "# <---     -7     -6       -5     -4   -3   -2   -1\n",
    "\n",
    "print(names[-3:])\n",
    "print(names[0:3])\n",
    "print(names[:3])\n",
    "print(names[0:3:1])\n",
    "print(names[:3:1])"
   ]
  },
  {
   "cell_type": "markdown",
   "id": "d4e97706",
   "metadata": {},
   "source": [
    "# apply operators on list data type"
   ]
  },
  {
   "cell_type": "code",
   "execution_count": 17,
   "id": "de33d7f9",
   "metadata": {},
   "outputs": [
    {
     "data": {
      "text/plain": [
       "['pakistan', 1000, 2000, 'abc', 'xyz']"
      ]
     },
     "execution_count": 17,
     "metadata": {},
     "output_type": "execute_result"
    }
   ],
   "source": [
    "l1 = ['pakistan',1000,2000]\n",
    "l2 = ['abc','xyz']\n",
    "\n",
    "l1 + l2"
   ]
  },
  {
   "cell_type": "code",
   "execution_count": 18,
   "id": "633e2efa",
   "metadata": {},
   "outputs": [
    {
     "data": {
      "text/plain": [
       "['pakistan', 1000, 2000, 'pakistan', 1000, 2000]"
      ]
     },
     "execution_count": 18,
     "metadata": {},
     "output_type": "execute_result"
    }
   ],
   "source": [
    "l1 * 2"
   ]
  },
  {
   "cell_type": "code",
   "execution_count": 20,
   "id": "e126fa7d",
   "metadata": {},
   "outputs": [
    {
     "data": {
      "text/plain": [
       "' pakistan pakistan pakistan'"
      ]
     },
     "execution_count": 20,
     "metadata": {},
     "output_type": "execute_result"
    }
   ],
   "source": [
    "\" pakistan\" * 3 "
   ]
  },
  {
   "cell_type": "markdown",
   "id": "6b864b14",
   "metadata": {},
   "source": [
    "# list data type methods"
   ]
  },
  {
   "cell_type": "code",
   "execution_count": 21,
   "id": "a7dc9bda",
   "metadata": {},
   "outputs": [
    {
     "data": {
      "text/plain": [
       "['append',\n",
       " 'clear',\n",
       " 'copy',\n",
       " 'count',\n",
       " 'extend',\n",
       " 'index',\n",
       " 'insert',\n",
       " 'pop',\n",
       " 'remove',\n",
       " 'reverse',\n",
       " 'sort']"
      ]
     },
     "execution_count": 21,
     "metadata": {},
     "output_type": "execute_result"
    }
   ],
   "source": [
    "[i for i in dir(list) if \"__\" not in i]\n"
   ]
  },
  {
   "cell_type": "markdown",
   "id": "3adc8c1b",
   "metadata": {},
   "source": [
    "# append -> append value as a item"
   ]
  },
  {
   "cell_type": "code",
   "execution_count": 22,
   "id": "d164e46f",
   "metadata": {},
   "outputs": [
    {
     "name": "stdout",
     "output_type": "stream",
     "text": [
      "['Asif', 'Hamza', 'Kashif', [1, 2, 3]]\n"
     ]
    }
   ],
   "source": [
    "names = []\n",
    "\n",
    "names.append(\"Asif\")\n",
    "names.append(\"Hamza\")\n",
    "names.append(\"Kashif\")\n",
    "names.append([1,2,3])\n",
    "\n",
    "print(names)"
   ]
  },
  {
   "cell_type": "code",
   "execution_count": 23,
   "id": "db14516d",
   "metadata": {},
   "outputs": [
    {
     "data": {
      "text/plain": [
       "[1, 2, 3]"
      ]
     },
     "execution_count": 23,
     "metadata": {},
     "output_type": "execute_result"
    }
   ],
   "source": [
    "names[-1]"
   ]
  },
  {
   "cell_type": "code",
   "execution_count": 24,
   "id": "c5f80a67",
   "metadata": {},
   "outputs": [
    {
     "name": "stdout",
     "output_type": "stream",
     "text": [
      "['pakistan', 1000, 2000]\n"
     ]
    },
    {
     "ename": "NameError",
     "evalue": "name 'l1' is not defined",
     "output_type": "error",
     "traceback": [
      "\u001b[1;31m---------------------------------------------------------------------------\u001b[0m",
      "\u001b[1;31mNameError\u001b[0m                                 Traceback (most recent call last)",
      "\u001b[1;32m~\\AppData\\Local\\Temp\\ipykernel_4668\\1144491815.py\u001b[0m in \u001b[0;36m<module>\u001b[1;34m\u001b[0m\n\u001b[0;32m      4\u001b[0m \u001b[1;32mdel\u001b[0m \u001b[0ml1\u001b[0m\u001b[1;33m\u001b[0m\u001b[1;33m\u001b[0m\u001b[0m\n\u001b[0;32m      5\u001b[0m \u001b[1;33m\u001b[0m\u001b[0m\n\u001b[1;32m----> 6\u001b[1;33m \u001b[0mprint\u001b[0m\u001b[1;33m(\u001b[0m\u001b[0ml1\u001b[0m\u001b[1;33m)\u001b[0m\u001b[1;33m\u001b[0m\u001b[1;33m\u001b[0m\u001b[0m\n\u001b[0m",
      "\u001b[1;31mNameError\u001b[0m: name 'l1' is not defined"
     ]
    }
   ],
   "source": [
    "l1 = ['pakistan',1000,2000]\n",
    "\n",
    "print(l1)\n",
    "del l1\n",
    "\n",
    "print(l1)"
   ]
  },
  {
   "cell_type": "code",
   "execution_count": 25,
   "id": "a668b28b",
   "metadata": {},
   "outputs": [
    {
     "name": "stdout",
     "output_type": "stream",
     "text": [
      "['pakistan', 1000, 2000]\n",
      "[]\n"
     ]
    }
   ],
   "source": [
    "l1 = ['pakistan',1000,2000]\n",
    "\n",
    "print(l1)\n",
    "l1.clear()\n",
    "\n",
    "print(l1)"
   ]
  },
  {
   "cell_type": "code",
   "execution_count": 26,
   "id": "fced6d8d",
   "metadata": {},
   "outputs": [
    {
     "name": "stdout",
     "output_type": "stream",
     "text": [
      "['pakistan', 1000, 2000]\n",
      "['pakistan', 1000, 2000]\n"
     ]
    }
   ],
   "source": [
    "l1 = ['pakistan',1000,2000]\n",
    "l2 = l1\n",
    "\n",
    "print(l1)\n",
    "print(l2)"
   ]
  },
  {
   "cell_type": "code",
   "execution_count": 27,
   "id": "fe64bdeb",
   "metadata": {},
   "outputs": [
    {
     "name": "stdout",
     "output_type": "stream",
     "text": [
      "['pakistan', 7000, 2000]\n",
      "['pakistan', 7000, 2000]\n"
     ]
    }
   ],
   "source": [
    "l1 = ['pakistan',1000,2000]\n",
    "l2 = l1\n",
    "\n",
    "l2[1] = 7000\n",
    "\n",
    "print(l1)\n",
    "print(l2)"
   ]
  },
  {
   "cell_type": "code",
   "execution_count": 28,
   "id": "66b55276",
   "metadata": {},
   "outputs": [
    {
     "name": "stdout",
     "output_type": "stream",
     "text": [
      "['pakistan', 1000, 2000]\n",
      "['pakistan', 7000, 2000]\n"
     ]
    }
   ],
   "source": [
    "l1 = ['pakistan',1000,2000]\n",
    "l2 = l1.copy()\n",
    "\n",
    "l2[1] = 7000\n",
    "\n",
    "print(l1)\n",
    "print(l2)\n"
   ]
  },
  {
   "cell_type": "code",
   "execution_count": 29,
   "id": "6443947d",
   "metadata": {},
   "outputs": [
    {
     "data": {
      "text/plain": [
       "2"
      ]
     },
     "execution_count": 29,
     "metadata": {},
     "output_type": "execute_result"
    }
   ],
   "source": [
    "l1 = ['a','b','c','a','x','y','z']\n",
    "\n",
    "l1.count('a')"
   ]
  },
  {
   "cell_type": "code",
   "execution_count": 30,
   "id": "080542e7",
   "metadata": {},
   "outputs": [
    {
     "name": "stdout",
     "output_type": "stream",
     "text": [
      "['Asif', 'Hamza', 'Kashif', [1, 2, 3]]\n"
     ]
    }
   ],
   "source": [
    "names = []\n",
    "\n",
    "names.append(\"Asif\")\n",
    "names.append(\"Hamza\")\n",
    "names.append(\"Kashif\")\n",
    "names.append([1,2,3])\n",
    "\n",
    "print(names)"
   ]
  },
  {
   "cell_type": "code",
   "execution_count": 31,
   "id": "a3b4a9f4",
   "metadata": {},
   "outputs": [
    {
     "name": "stdout",
     "output_type": "stream",
     "text": [
      "['Asif', 'Hamza', 'Kashif', 1, 2, 3]\n"
     ]
    }
   ],
   "source": [
    "names = []\n",
    "\n",
    "names.append(\"Asif\")\n",
    "names.append(\"Hamza\")\n",
    "names.append(\"Kashif\")\n",
    "names.extend([1,2,3])\n",
    "\n",
    "print(names)"
   ]
  },
  {
   "cell_type": "code",
   "execution_count": 32,
   "id": "ee07a60c",
   "metadata": {},
   "outputs": [
    {
     "name": "stdout",
     "output_type": "stream",
     "text": [
      "[1, 2, 3, 'a', 'b', 'c']\n",
      "[1, 2, 3] ['a', 'b', 'c']\n"
     ]
    }
   ],
   "source": [
    "l1 = [1,2,3]\n",
    "l2 = ['a','b','c']\n",
    "\n",
    "print(l1 + l2)\n",
    "\n",
    "print(l1,l2)"
   ]
  },
  {
   "cell_type": "code",
   "execution_count": 33,
   "id": "7bebf7dc",
   "metadata": {},
   "outputs": [
    {
     "name": "stdout",
     "output_type": "stream",
     "text": [
      "[1, 2, 3, 'a', 'b', 'c'] ['a', 'b', 'c']\n"
     ]
    }
   ],
   "source": [
    "l1 = [1,2,3]\n",
    "l2 = ['a','b','c']\n",
    "\n",
    "l1.extend(l2)\n",
    "\n",
    "\n",
    "print(l1,l2)"
   ]
  },
  {
   "cell_type": "code",
   "execution_count": 34,
   "id": "1b0b6f4c",
   "metadata": {},
   "outputs": [
    {
     "data": {
      "text/plain": [
       "4"
      ]
     },
     "execution_count": 34,
     "metadata": {},
     "output_type": "execute_result"
    }
   ],
   "source": [
    "l1 = ['a','b','c','a','x','y','z']\n",
    "\n",
    "l1.index('x')"
   ]
  },
  {
   "cell_type": "code",
   "execution_count": 52,
   "id": "733be88b",
   "metadata": {},
   "outputs": [
    {
     "name": "stdout",
     "output_type": "stream",
     "text": [
      "0\n",
      "3\n",
      "7\n"
     ]
    }
   ],
   "source": [
    "l1 = ['a','b','c','a','x','y','z','a']\n",
    "\n",
    "print(l1.index('a'))\n",
    "print(l1.index('a',1))\n",
    "print(l1.index('a',4))"
   ]
  },
  {
   "cell_type": "markdown",
   "id": "04a753d1",
   "metadata": {},
   "source": [
    "# insert"
   ]
  },
  {
   "cell_type": "code",
   "execution_count": 54,
   "id": "1e0be8c0",
   "metadata": {},
   "outputs": [
    {
     "name": "stdout",
     "output_type": "stream",
     "text": [
      "['a', 'hassan', 'b', 'c', 'a', 'x', 'y', 'z']\n",
      "['a', 'hassan', 'b', 'c', 'a', 'hassaan', 'x', 'y', 'z']\n"
     ]
    }
   ],
   "source": [
    "l1 = ['a','b','c','a','x','y','z']\n",
    "\n",
    "l1.insert(1,\"hassan\")\n",
    "print(l1)\n",
    "l1.insert(5,\"hassaan\")\n",
    "print(l1)"
   ]
  },
  {
   "cell_type": "code",
   "execution_count": 55,
   "id": "2814a1ab",
   "metadata": {},
   "outputs": [
    {
     "name": "stdout",
     "output_type": "stream",
     "text": [
      "['a', 'b', 'c', 'a', 'x', 'y', 'z']\n",
      "['a', 'b', 'c', 'a', 'x', 'y']\n",
      "['a', 'b', 'c', 'a', 'x']\n",
      "['b', 'c', 'a', 'x']\n"
     ]
    }
   ],
   "source": [
    "l1 = ['a','b','c','a','x','y','z']\n",
    "print(l1)\n",
    "l1.pop()\n",
    "print(l1)\n",
    "l1.pop()\n",
    "print(l1)\n",
    "l1.pop(0)\n",
    "print(l1)"
   ]
  },
  {
   "cell_type": "code",
   "execution_count": 56,
   "id": "dceea416",
   "metadata": {},
   "outputs": [
    {
     "name": "stdout",
     "output_type": "stream",
     "text": [
      "['a', 'b', 'c', 'a', 'x', 'y', 'z']\n",
      "['a', 'b', 'c', 'a', 'x', 'y']\n",
      "['a', 'b', 'c', 'a', 'x']\n",
      "['b', 'c', 'a', 'x']\n",
      "Completed list  ['z', 'y', 'a']\n"
     ]
    }
   ],
   "source": [
    "l1 = ['a','b','c','a','x','y','z']\n",
    "l2 = []\n",
    "\n",
    "print(l1)\n",
    "l2.append(l1.pop())\n",
    "print(l1)\n",
    "l2.append(l1.pop())\n",
    "print(l1)\n",
    "l2.append(l1.pop(0))\n",
    "print(l1)\n",
    "\n",
    "print(\"Completed list \",l2)"
   ]
  },
  {
   "cell_type": "code",
   "execution_count": 57,
   "id": "93ce7bc2",
   "metadata": {},
   "outputs": [
    {
     "name": "stdout",
     "output_type": "stream",
     "text": [
      "['a', 'a', 'b', 'c', 'x', 'y', 'z']\n"
     ]
    }
   ],
   "source": [
    "l1 = ['a','b','c','a','x','y','z']\n",
    "\n",
    "l1.sort()\n",
    "\n",
    "print(l1)"
   ]
  },
  {
   "cell_type": "code",
   "execution_count": 58,
   "id": "bd5c9ca0",
   "metadata": {},
   "outputs": [
    {
     "name": "stdout",
     "output_type": "stream",
     "text": [
      "['z', 'y', 'x', 'a', 'c', 'b', 'a']\n"
     ]
    }
   ],
   "source": [
    "l1 = ['a','b','c','a','x','y','z']\n",
    "\n",
    "l1.reverse()\n",
    "\n",
    "print(l1)"
   ]
  },
  {
   "cell_type": "code",
   "execution_count": 59,
   "id": "6edb79e3",
   "metadata": {},
   "outputs": [
    {
     "name": "stdout",
     "output_type": "stream",
     "text": [
      "['z', 'y', 'x', 'c', 'b', 'a', 'a']\n"
     ]
    }
   ],
   "source": [
    "l1 = ['a','b','c','a','x','y','z']\n",
    "\n",
    "l1.sort()\n",
    "l1.reverse()\n",
    "\n",
    "print(l1)"
   ]
  },
  {
   "cell_type": "code",
   "execution_count": 60,
   "id": "3447ce63",
   "metadata": {},
   "outputs": [
    {
     "name": "stdout",
     "output_type": "stream",
     "text": [
      "['z', 'y', 'x', 'c', 'b', 'a', 'a']\n"
     ]
    }
   ],
   "source": [
    "l1 = ['a','b','c','a','x','y','z']\n",
    "\n",
    "l1.sort(reverse=True)\n",
    "\n",
    "print(l1)"
   ]
  },
  {
   "cell_type": "markdown",
   "id": "f3f5b33c",
   "metadata": {},
   "source": [
    "# Remove value from list search with string"
   ]
  },
  {
   "cell_type": "code",
   "execution_count": 61,
   "id": "cd2e45ff",
   "metadata": {},
   "outputs": [
    {
     "name": "stdout",
     "output_type": "stream",
     "text": [
      "Enter item: a\n",
      "a <class 'str'>\n",
      "0 <class 'int'>\n",
      "['b', 'c', 'a', 'x', 'y', 'z']\n"
     ]
    }
   ],
   "source": [
    "l1 = ['a','b','c','a','x','y','z']\n",
    "\n",
    "\n",
    "remove_item = input(\"Enter item: \")\n",
    "indx = l1.index(remove_item)\n",
    "\n",
    "print(remove_item,type(remove_item))\n",
    "print(indx, type(indx))\n",
    "l1.pop(indx)\n",
    "\n",
    "print(l1)\n"
   ]
  },
  {
   "cell_type": "code",
   "execution_count": 65,
   "id": "a8e110d0",
   "metadata": {},
   "outputs": [
    {
     "name": "stdout",
     "output_type": "stream",
     "text": [
      "['b', 'c', 'a', 'x', 'y', 'z']\n"
     ]
    }
   ],
   "source": [
    "l1 = ['a','b','c','a','x','y','z']\n",
    "\n",
    "l1.remove('a')\n",
    "print(l1)"
   ]
  },
  {
   "cell_type": "code",
   "execution_count": 66,
   "id": "6cb82ab7",
   "metadata": {},
   "outputs": [
    {
     "name": "stdout",
     "output_type": "stream",
     "text": [
      "Enter item: a\n",
      "['b', 'c', 'a', 'b', 'x', 'y', 'z'] None\n"
     ]
    }
   ],
   "source": [
    "l1 = ['a','b','c','a','b','x','y','z']\n",
    "\n",
    "remove_item = input(\"Enter item: \")\n",
    "\n",
    "a = l1.remove(remove_item)\n",
    "print(l1,a)"
   ]
  },
  {
   "cell_type": "code",
   "execution_count": 67,
   "id": "885ee4ed",
   "metadata": {},
   "outputs": [
    {
     "name": "stdout",
     "output_type": "stream",
     "text": [
      "Enter item: a\n",
      "None\n",
      "None\n",
      "['b', 'c', 'b', 'x', 'y', 'z']\n"
     ]
    }
   ],
   "source": [
    "l1 = ['a','b','c','a','b','x','y','z']\n",
    "\n",
    "\n",
    "remove_item = input(\"Enter item: \")\n",
    "\n",
    "for i in range(l1.count(remove_item)):\n",
    "    a = l1.remove(remove_item)\n",
    "    print(a)\n",
    "print(l1)"
   ]
  },
  {
   "cell_type": "markdown",
   "id": "53938500",
   "metadata": {},
   "source": [
    "# Loop"
   ]
  },
  {
   "cell_type": "code",
   "execution_count": 68,
   "id": "b1e2d9ba",
   "metadata": {},
   "outputs": [
    {
     "name": "stdout",
     "output_type": "stream",
     "text": [
      "a\n",
      "b\n",
      "c\n",
      "a\n",
      "b\n",
      "x\n",
      "y\n",
      "z\n"
     ]
    }
   ],
   "source": [
    "for i in ['a','b','c','a','b','x','y','z']:\n",
    "    print(i)"
   ]
  },
  {
   "cell_type": "code",
   "execution_count": null,
   "id": "a4369628",
   "metadata": {},
   "outputs": [],
   "source": []
  }
 ],
 "metadata": {
  "kernelspec": {
   "display_name": "Python 3 (ipykernel)",
   "language": "python",
   "name": "python3"
  },
  "language_info": {
   "codemirror_mode": {
    "name": "ipython",
    "version": 3
   },
   "file_extension": ".py",
   "mimetype": "text/x-python",
   "name": "python",
   "nbconvert_exporter": "python",
   "pygments_lexer": "ipython3",
   "version": "3.9.13"
  }
 },
 "nbformat": 4,
 "nbformat_minor": 5
}
